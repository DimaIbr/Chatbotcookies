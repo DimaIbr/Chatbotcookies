{
  "cells": [
    {
      "cell_type": "code",
      "execution_count": null,
      "metadata": {
        "id": "RjnAX03nXbWn"
      },
      "outputs": [],
      "source": [
        "from __future__ import absolute_import, division, print_function, unicode_literals\n",
        "\n",
        "#Need to use the latest Tensorflow version - can find it at https://www.tensorflow.org/install/\n",
        "import tensorflow as tf\n",
        "\n",
        "import numpy as np\n",
        "import os\n",
        "import datetime"
      ]
    },
    {
      "cell_type": "code",
      "execution_count": null,
      "metadata": {
        "id": "asvI4tVjXob-",
        "colab": {
          "base_uri": "https://localhost:8080/"
        },
        "outputId": "905a7a35-de70-4fd0-9bb8-214963e4e027"
      },
      "outputs": [
        {
          "output_type": "stream",
          "name": "stdout",
          "text": [
            "TensorFlow version:  2.8.0\n"
          ]
        }
      ],
      "source": [
        "print(\"TensorFlow version: \", tf.__version__)"
      ]
    },
    {
      "cell_type": "markdown",
      "metadata": {
        "id": "5tSAEtZsZXlJ"
      },
      "source": [
        "Check if GPU is available - always good to double-check. When using Colab, I sometimes forget to change runtime type, so having this  code will always catch it."
      ]
    },
    {
      "cell_type": "code",
      "execution_count": null,
      "metadata": {
        "id": "He4OvefpZMr6",
        "colab": {
          "base_uri": "https://localhost:8080/"
        },
        "outputId": "a319a1ac-cf44-4d13-a9cf-109e7a749143"
      },
      "outputs": [
        {
          "output_type": "stream",
          "name": "stdout",
          "text": [
            "[name: \"/device:CPU:0\"\n",
            "device_type: \"CPU\"\n",
            "memory_limit: 268435456\n",
            "locality {\n",
            "}\n",
            "incarnation: 1863121634329597133\n",
            "xla_global_id: -1\n",
            ", name: \"/device:GPU:0\"\n",
            "device_type: \"GPU\"\n",
            "memory_limit: 11320098816\n",
            "locality {\n",
            "  bus_id: 1\n",
            "  links {\n",
            "  }\n",
            "}\n",
            "incarnation: 17600917876441254252\n",
            "physical_device_desc: \"device: 0, name: Tesla K80, pci bus id: 0000:00:04.0, compute capability: 3.7\"\n",
            "xla_global_id: 416903419\n",
            "]\n"
          ]
        }
      ],
      "source": [
        "from tensorflow.python.client import device_lib\n",
        "print(device_lib.list_local_devices())"
      ]
    },
    {
      "cell_type": "markdown",
      "metadata": {
        "id": "MYMrkgt9X1t_"
      },
      "source": [
        "If need to remove logs from previous runs, uncomment and adjust the directory name:"
      ]
    },
    {
      "cell_type": "code",
      "execution_count": null,
      "metadata": {
        "id": "8xT0uOUoXued"
      },
      "outputs": [],
      "source": [
        "#!rm -rf ./checkpoints_2019.04.21-20:48:58/ #if using Tensorboard or other logging"
      ]
    },
    {
      "cell_type": "markdown",
      "metadata": {
        "id": "LamqnzOZYsu7"
      },
      "source": [
        "### Download the dataset"
      ]
    },
    {
      "cell_type": "markdown",
      "metadata": {
        "id": "5nU0wJvJlFGv"
      },
      "source": [
        "Check the current directory and upload the text file:"
      ]
    },
    {
      "cell_type": "code",
      "source": [
        "from google.colab import drive\n",
        "drive.mount(\"/content/drive\", force_remount=True)"
      ],
      "metadata": {
        "colab": {
          "base_uri": "https://localhost:8080/"
        },
        "id": "K3g5nibTdEwq",
        "outputId": "4dbd47aa-9447-4b0c-a6e4-430d3c823161"
      },
      "execution_count": null,
      "outputs": [
        {
          "output_type": "stream",
          "name": "stdout",
          "text": [
            "Mounted at /content/drive\n"
          ]
        }
      ]
    },
    {
      "cell_type": "code",
      "execution_count": null,
      "metadata": {
        "id": "MD49SegeY46C"
      },
      "outputs": [],
      "source": [
        "import os\n",
        "path = os.getcwd()\n",
        "print(path)"
      ]
    },
    {
      "cell_type": "code",
      "execution_count": null,
      "metadata": {
        "id": "3eflFyPIZ21J",
        "colab": {
          "base_uri": "https://localhost:8080/"
        },
        "outputId": "7f1893cc-fc70-48c6-cb62-123317c55295"
      },
      "outputs": [
        {
          "output_type": "stream",
          "name": "stdout",
          "text": [
            "User uploaded file \"1.chipde.damoh.schneevonmorgen.com.txt\" with length 28 bytes\n",
            "User uploaded file \"1bm.cqcounter.com.txt\" with length 28 bytes\n",
            "User uploaded file \"5avxd.voluumtrk.com.txt\" with length 28 bytes\n",
            "User uploaded file \"2mdn.net.txt\" with length 28 bytes\n",
            "User uploaded file \"5c2fk.voluumtrk.com.txt\" with length 28 bytes\n",
            "User uploaded file \"6glass1.info.txt\" with length 28 bytes\n",
            "User uploaded file \"7.ptp22.com.txt\" with length 28 bytes\n",
            "User uploaded file \"08.185.87.188.liveadvert.com.txt\" with length 28 bytes\n",
            "User uploaded file \"8hykthze.cricket.txt\" with length 28 bytes\n",
            "User uploaded file \"9cfa-356e-ec76-7adf.reporo.net.txt\" with length 28 bytes\n",
            "User uploaded file \"192.168.media.trafficjunky.net.txt\" with length 28 bytes\n",
            "User uploaded file \"31.6.87.194.dynamic.dol.ru.txt\" with length 28 bytes\n",
            "User uploaded file \"208.185.87.120.liveadvert.com.txt\" with length 28 bytes\n",
            "User uploaded file \"208.185.87.170.liveadvert.com.txt\" with length 28 bytes\n",
            "User uploaded file \"208.185.87.181.liveadvert.com.txt\" with length 28 bytes\n",
            "User uploaded file \"238.6.87.194.dynamic.dol.ru.txt\" with length 28 bytes\n",
            "User uploaded file \"888medianetwork.com.txt\" with length 28 bytes\n",
            "User uploaded file \"3241.hittail.com.txt\" with length 28 bytes\n",
            "User uploaded file \"21750.tctm.co.txt\" with length 28 bytes\n",
            "User uploaded file \"2233.bitterstrawberry.com.txt\" with length 28 bytes\n",
            "User uploaded file \"20591617p.rfihub.com.txt\" with length 28 bytes\n",
            "User uploaded file \"11163929-3482.c2.adprotect.net.txt\" with length 28 bytes\n",
            "User uploaded file \"a.dpmsrv.com.txt\" with length 28 bytes\n",
            "User uploaded file \"27220337.go2cloud.org.txt\" with length 28 bytes\n",
            "User uploaded file \"a.myapp.com.txt\" with length 28 bytes\n",
            "User uploaded file \"a4nwz.voluumtrk.com.txt\" with length 28 bytes\n",
            "User uploaded file \"a.twiago.com.txt\" with length 28 bytes\n",
            "User uploaded file \"ad.lazynerd.info.txt\" with length 28 bytes\n",
            "User uploaded file \"ad.search.ch.txt\" with length 28 bytes\n",
            "User uploaded file \"ad.vikadsk.com.txt\" with length 28 bytes\n",
            "User uploaded file \"ad.pixnet.net.txt\" with length 28 bytes\n",
            "User uploaded file \"ad.nobreak.com.txt\" with length 28 bytes\n",
            "User uploaded file \"abacus.go2cloud.org.txt\" with length 28 bytes\n",
            "User uploaded file \"banners5.hpg.com.br.txt\" with length 28 bytes\n",
            "User uploaded file \"abs.beweb.com.txt\" with length 28 bytes\n",
            "User uploaded file \"a19.g.akamai.net.txt\" with length 28 bytes\n",
            "User uploaded file \"ad1.api.ero-advertising.com.txt\" with length 28 bytes\n",
            "User uploaded file \"ad21m.adk2.co.txt\" with length 28 bytes\n",
            "User uploaded file \"ad1.sibnet.ru.txt\" with length 28 bytes\n",
            "User uploaded file \"ad64.paycount.com.txt\" with length 28 bytes\n",
            "User uploaded file \"ad146m.adk2.co.txt\" with length 28 bytes\n",
            "User uploaded file \"ad2.firehousezone.com.txt\" with length 28 bytes\n",
            "User uploaded file \"ad51.hpg.com.br.txt\" with length 28 bytes\n",
            "User uploaded file \"ad307m.adk2.co.txt\" with length 28 bytes\n",
            "User uploaded file \"ad38.hpg.com.br.txt\" with length 28 bytes\n",
            "User uploaded file \"ad315m.adk2.co.txt\" with length 28 bytes\n",
            "User uploaded file \"ad312m.adk2.co.txt\" with length 28 bytes\n",
            "User uploaded file \"ad328m.adk2.co.txt\" with length 28 bytes\n",
            "User uploaded file \"ad419m.adk2.co.txt\" with length 28 bytes\n",
            "User uploaded file \"ad379m.adk2.co.txt\" with length 28 bytes\n",
            "User uploaded file \"ad-balancer.at.txt\" with length 28 bytes\n",
            "User uploaded file \"adblockwhitelist098.com.txt\" with length 28 bytes\n",
            "User uploaded file \"addesktop.com.txt\" with length 28 bytes\n",
            "User uploaded file \"ad195m.adk2.co.txt\" with length 28 bytes\n",
            "User uploaded file \"ad421m.adk2.co.txt\" with length 28 bytes\n",
            "User uploaded file \"adf.ly.txt\" with length 28 bytes\n",
            "User uploaded file \"adit-media.com.txt\" with length 28 bytes\n",
            "User uploaded file \"adjuggler.yourdictionary.com.txt\" with length 28 bytes\n",
            "User uploaded file \"adlandpro.com.txt\" with length 28 bytes\n",
            "User uploaded file \"adonads.com.txt\" with length 28 bytes\n",
            "User uploaded file \"ads.accelerator-media.com.txt\" with length 28 bytes\n",
            "User uploaded file \"ads.adverline.com.txt\" with length 28 bytes\n",
            "User uploaded file \"ads.app-authority.com.txt\" with length 28 bytes\n",
            "User uploaded file \"ads.cdfreaks.com.txt\" with length 28 bytes\n",
            "User uploaded file \"ads.clearchannel.com.txt\" with length 28 bytes\n",
            "User uploaded file \"ads.contentabc.net.txt\" with length 28 bytes\n",
            "User uploaded file \"ads.cricbuzz.com.txt\" with length 28 bytes\n",
            "User uploaded file \"ads.contactmusic.com.txt\" with length 28 bytes\n",
            "User uploaded file \"ads.cos.com.txt\" with length 28 bytes\n",
            "User uploaded file \"ads.gameforgeads.de.txt\" with length 28 bytes\n",
            "User uploaded file \"ads.devx.com.txt\" with length 28 bytes\n",
            "User uploaded file \"ads.globo.com.txt\" with length 28 bytes\n",
            "User uploaded file \"ads.fooyoh.com.txt\" with length 28 bytes\n",
            "User uploaded file \"ads.tvtv.bg.txt\" with length 28 bytes\n",
            "User uploaded file \"ads.yazzle.net.txt\" with length 28 bytes\n",
            "User uploaded file \"ads.wamba.com.txt\" with length 28 bytes\n",
            "User uploaded file \"ads.mlive.com.txt\" with length 28 bytes\n",
            "User uploaded file \"ads34.hpg.com.br.txt\" with length 28 bytes\n",
            "User uploaded file \"ads.infonet-thueringen.de.txt\" with length 28 bytes\n",
            "User uploaded file \"ads229.hpg.com.br.txt\" with length 28 bytes\n",
            "User uploaded file \"ads.timesink.com.txt\" with length 28 bytes\n",
            "User uploaded file \"adserver.bizhat.com.txt\" with length 28 bytes\n",
            "User uploaded file \"adserver.finditquick.com.txt\" with length 28 bytes\n",
            "User uploaded file \"adsbookie.com.txt\" with length 28 bytes\n",
            "User uploaded file \"ads.thestar.com.txt\" with length 28 bytes\n",
            "User uploaded file \"adspring.to.txt\" with length 28 bytes\n",
            "User uploaded file \"adserver.millionairemate.com.txt\" with length 28 bytes\n",
            "User uploaded file \"adsytipl.indiatimes.com.txt\" with length 28 bytes\n",
            "User uploaded file \"adserver.saxonsoft.hu.txt\" with length 28 bytes\n",
            "User uploaded file \"ads.rediff.com.txt\" with length 28 bytes\n",
            "User uploaded file \"ads.juneauempire.com.txt\" with length 28 bytes\n",
            "User uploaded file \"ads.vntsm.com.txt\" with length 28 bytes\n",
            "User uploaded file \"ads.yeshanews.com.txt\" with length 28 bytes\n",
            "User uploaded file \"adups.com.txt\" with length 28 bytes\n",
            "User uploaded file \"adv.adr.it.txt\" with length 28 bytes\n",
            "User uploaded file \"advpoints.com.txt\" with length 28 bytes\n",
            "User uploaded file \"ads.money.bg.txt\" with length 28 bytes\n",
            "User uploaded file \"advertising.hardwarezone.com.txt\" with length 28 bytes\n",
            "User uploaded file \"ads2.utopiad.com.txt\" with length 28 bytes\n",
            "User uploaded file \"adziff.com.txt\" with length 28 bytes\n",
            "User uploaded file \"ads41.hpg.com.br.txt\" with length 28 bytes\n",
            "User uploaded file \"adtrivacpa.go2cloud.org.txt\" with length 28 bytes\n",
            "User uploaded file \"ads.offeroptimizer.com.txt\" with length 28 bytes\n",
            "User uploaded file \"gdeua.hit.gemius.pl.txt\" with length 28 bytes\n",
            "User uploaded file \"adworkmedia.com.txt\" with length 28 bytes\n",
            "User uploaded file \"adserver.myownemail.com.txt\" with length 28 bytes\n",
            "User uploaded file \"advancedmn.us.intellitxt.com.txt\" with length 28 bytes\n",
            "User uploaded file \"affiliate.tcnclickpath.com.txt\" with length 28 bytes\n",
            "User uploaded file \"banners61.hpg.com.br.txt\" with length 28 bytes\n",
            "User uploaded file \"ads.multimania.lycos.fr.txt\" with length 28 bytes\n",
            "User uploaded file \"ads.piramit.net.txt\" with length 28 bytes\n",
            "User uploaded file \"ads.space.com.txt\" with length 28 bytes\n",
            "User uploaded file \"ge-ge-force.com.txt\" with length 28 bytes\n",
            "User uploaded file \"affiliates.franchisegator.com.txt\" with length 28 bytes\n",
            "User uploaded file \"affinity.com.txt\" with length 28 bytes\n",
            "User uploaded file \"africandevelopmentbank.com.txt\" with length 28 bytes\n",
            "User uploaded file \"agata-lillard.us.txt\" with length 28 bytes\n",
            "User uploaded file \"aimtoday.aol.com.txt\" with length 28 bytes\n",
            "User uploaded file \"alissa-blanchard.us.txt\" with length 28 bytes\n",
            "User uploaded file \"all.447.xyz.txt\" with length 28 bytes\n",
            "User uploaded file \"amoad.com.txt\" with length 28 bytes\n",
            "User uploaded file \"ambushar.net.txt\" with length 28 bytes\n",
            "User uploaded file \"analytics.socialbakers.com.txt\" with length 28 bytes\n",
            "User uploaded file \"ap.octopuspop.com.txt\" with length 28 bytes\n",
            "User uploaded file \"analytics.thingx.tv.txt\" with length 28 bytes\n",
            "User uploaded file \"api.amplitude.com.txt\" with length 28 bytes\n",
            "User uploaded file \"api.citygridmedia.com.txt\" with length 28 bytes\n",
            "User uploaded file \"api.usersnap.com.txt\" with length 28 bytes\n",
            "User uploaded file \"api.widgetbucks.com.txt\" with length 28 bytes\n",
            "User uploaded file \"api.lazyswipe.com.txt\" with length 28 bytes\n",
            "User uploaded file \"api.v2.sslsecure6.com.txt\" with length 28 bytes\n",
            "User uploaded file \"ar.umeng.com.txt\" with length 28 bytes\n",
            "User uploaded file \"app.app-authority.com.txt\" with length 28 bytes\n",
            "User uploaded file \"apportium.com.txt\" with length 28 bytes\n",
            "User uploaded file \"applicationstat.com.txt\" with length 28 bytes\n",
            "User uploaded file \"appsfire.com.txt\" with length 28 bytes\n",
            "User uploaded file \"auihv.voluumtrk.com.txt\" with length 28 bytes\n",
            "User uploaded file \"arc5.msn.com.txt\" with length 28 bytes\n",
            "User uploaded file \"automatedtraffic.com.txt\" with length 28 bytes\n",
            "User uploaded file \"assets.infinity-tracking.net.txt\" with length 28 bytes\n",
            "User uploaded file \"b.retailmenot.com.txt\" with length 28 bytes\n",
            "User uploaded file \"multimania.com.txt\" with length 28 bytes\n",
            "User uploaded file \"asterpix.com.txt\" with length 28 bytes\n",
            "User uploaded file \"my.statcounter.com.txt\" with length 28 bytes\n",
            "User uploaded file \"my.skyhookwireless.com.txt\" with length 28 bytes\n",
            "User uploaded file \"bank03.ads.dt.mydas.mobi.txt\" with length 28 bytes\n",
            "User uploaded file \"avenfeld.com.txt\" with length 28 bytes\n",
            "User uploaded file \"servedby.adxpose.com.txt\" with length 28 bytes\n",
            "User uploaded file \"azzvkcavtgwp.com.txt\" with length 28 bytes\n",
            "User uploaded file \"arcadebe.com.txt\" with length 28 bytes\n",
            "User uploaded file \"b.portalnet.cl.txt\" with length 28 bytes\n",
            "User uploaded file \"apycomm.com.txt\" with length 28 bytes\n",
            "User uploaded file \"b6508157d.website.txt\" with length 28 bytes\n",
            "User uploaded file \"azkvcgzjsrmk.com.txt\" with length 28 bytes\n",
            "User uploaded file \"bank04.clicks.mp.mydas.mobi.txt\" with length 28 bytes\n",
            "User uploaded file \"bank10.ads.mp.mydas.mobi.txt\" with length 28 bytes\n",
            "User uploaded file \"bank-16.ads.mp.mydas.mobi.txt\" with length 28 bytes\n",
            "User uploaded file \"bank-33.ads.mp.mydas.mobi.txt\" with length 28 bytes\n",
            "User uploaded file \"bank-34.ads.mp.mydas.mobi.txt\" with length 28 bytes\n",
            "User uploaded file \"bank-77.ads.mp.mydas.mobi.txt\" with length 28 bytes\n",
            "User uploaded file \"bank-72.ads.mp.mydas.mobi.txt\" with length 28 bytes\n",
            "User uploaded file \"bank91.mi.ads.mp.mydas.mobi.txt\" with length 28 bytes\n",
            "User uploaded file \"banner.finn.no.txt\" with length 28 bytes\n",
            "User uploaded file \"banner.lasvegasusacasino.com.txt\" with length 28 bytes\n",
            "User uploaded file \"bannerport.net.txt\" with length 28 bytes\n",
            "User uploaded file \"banners.easysolutions.be.txt\" with length 28 bytes\n",
            "User uploaded file \"banners.mymedia.bg.txt\" with length 28 bytes\n",
            "User uploaded file \"banners88.hpg.com.br.txt\" with length 28 bytes\n",
            "User uploaded file \"banners.payserve.com.txt\" with length 28 bytes\n",
            "User uploaded file \"banners152.hpg.com.br.txt\" with length 28 bytes\n",
            "User uploaded file \"banners106.hpg.com.br.txt\" with length 28 bytes\n",
            "User uploaded file \"banners.winfire.com.txt\" with length 28 bytes\n",
            "User uploaded file \"banners.realitycash.com.txt\" with length 28 bytes\n",
            "User uploaded file \"beacon.affil.walmart.com.txt\" with length 28 bytes\n",
            "User uploaded file \"bddff.voluumtrk.com.txt\" with length 28 bytes\n",
            "User uploaded file \"beatchucknorris.com.txt\" with length 28 bytes\n",
            "User uploaded file \"barbara-vasques.us.txt\" with length 28 bytes\n",
            "User uploaded file \"battleon.directtrack.com.txt\" with length 28 bytes\n",
            "User uploaded file \"behjgnhniasz.com.txt\" with length 28 bytes\n",
            "User uploaded file \"bee-ads.com.txt\" with length 28 bytes\n",
            "User uploaded file \"beta.superstats.com.txt\" with length 28 bytes\n",
            "User uploaded file \"bhggbeynqhwm.bid.txt\" with length 28 bytes\n",
            "User uploaded file \"binaryoffers.go2cloud.org.txt\" with length 28 bytes\n",
            "User uploaded file \"blast4traffic.com.txt\" with length 28 bytes\n",
            "User uploaded file \"bloggerszshops.com.txt\" with length 28 bytes\n",
            "User uploaded file \"blueconic.net.txt\" with length 28 bytes\n",
            "User uploaded file \"blogohertz.com.txt\" with length 28 bytes\n",
            "User uploaded file \"bruceleadx3.com.txt\" with length 28 bytes\n",
            "User uploaded file \"brattest1.2cnt.net.txt\" with length 28 bytes\n",
            "User uploaded file \"business.realtracker.com.txt\" with length 28 bytes\n",
            "User uploaded file \"btwwu.voluumtrk.com.txt\" with length 28 bytes\n",
            "User uploaded file \"callmd5map.com.txt\" with length 28 bytes\n",
            "User uploaded file \"canwestdose.112.2o7.net.txt\" with length 28 bytes\n",
            "User uploaded file \"cbscom.112.2o7.net.txt\" with length 28 bytes\n",
            "User uploaded file \"cc.chango.com.txt\" with length 28 bytes\n",
            "User uploaded file \"cdn.hdat.xyz.txt\" with length 28 bytes\n",
            "User uploaded file \"cdn.engine.fling.doublepimp.com.txt\" with length 28 bytes\n",
            "User uploaded file \"cdn.ndparking.com.txt\" with length 28 bytes\n",
            "User uploaded file \"cdn4-ref.landing.comcontent.net.txt\" with length 28 bytes\n",
            "User uploaded file \"cdn-image.com.txt\" with length 28 bytes\n",
            "User uploaded file \"cdn-tags.mmondi.com.txt\" with length 28 bytes\n",
            "User uploaded file \"clashmobile.com.txt\" with length 28 bytes\n",
            "User uploaded file \"cj.com.txt\" with length 28 bytes\n",
            "User uploaded file \"clmbtech.com.txt\" with length 28 bytes\n",
            "User uploaded file \"click.alibaba.com.txt\" with length 28 bytes\n",
            "User uploaded file \"clickeight.com.txt\" with length 28 bytes\n",
            "User uploaded file \"cloudtracked.com.txt\" with length 28 bytes\n",
            "User uploaded file \"cluster.vilumirian.biz.txt\" with length 28 bytes\n",
            "User uploaded file \"components.adsender.us.txt\" with length 28 bytes\n",
            "User uploaded file \"c-on-text.com.txt\" with length 28 bytes\n",
            "User uploaded file \"count166.51yes.com.txt\" with length 28 bytes\n",
            "User uploaded file \"connexionsafe.com.txt\" with length 28 bytes\n",
            "User uploaded file \"copycarpenter.com.txt\" with length 28 bytes\n",
            "User uploaded file \"count240.51yes.com.txt\" with length 28 bytes\n",
            "User uploaded file \"count381.51yes.com.txt\" with length 28 bytes\n",
            "User uploaded file \"count278.51yes.com.txt\" with length 28 bytes\n",
            "User uploaded file \"count390.51yes.com.txt\" with length 28 bytes\n",
            "User uploaded file \"count489.51yes.com.txt\" with length 28 bytes\n",
            "User uploaded file \"count553.51yes.com.txt\" with length 28 bytes\n",
            "User uploaded file \"count596.51yes.com.txt\" with length 28 bytes\n",
            "User uploaded file \"count717.51yes.com.txt\" with length 28 bytes\n",
            "User uploaded file \"count825.51yes.com.txt\" with length 28 bytes\n",
            "User uploaded file \"count883.51yes.com.txt\" with length 28 bytes\n",
            "User uploaded file \"count904.51yes.com.txt\" with length 28 bytes\n",
            "User uploaded file \"count906.51yes.com.txt\" with length 28 bytes\n",
            "User uploaded file \"count930.51yes.com.txt\" with length 28 bytes\n",
            "User uploaded file \"cpanuk.com.txt\" with length 28 bytes\n",
            "User uploaded file \"ct.cnet-ssa.cnet.com.txt\" with length 28 bytes\n",
            "User uploaded file \"cttracking08.com.txt\" with length 28 bytes\n",
            "User uploaded file \"creditcards15x.tk.txt\" with length 28 bytes\n",
            "User uploaded file \"crochet.ovh.txt\" with length 28 bytes\n",
            "User uploaded file \"ctvmaincom.112.2o7.net.txt\" with length 28 bytes\n",
            "User uploaded file \"cs12.livetex.ru.txt\" with length 28 bytes\n",
            "User uploaded file \"d1d95giojjkirt.cloudfront.net.txt\" with length 28 bytes\n",
            "User uploaded file \"d1nkcqm1nusqof.cloudfront.net.txt\" with length 28 bytes\n",
            "User uploaded file \"dailyslut.net.txt\" with length 28 bytes\n",
            "User uploaded file \"danielle-guo.us.txt\" with length 28 bytes\n",
            "User uploaded file \"data.flurry.com.txt\" with length 28 bytes\n",
            "User uploaded file \"dbase01.jag.vmsn.de.txt\" with length 28 bytes\n",
            "User uploaded file \"data.mobclix.com.txt\" with length 28 bytes\n",
            "User uploaded file \"de.grmtech.net.txt\" with length 28 bytes\n",
            "User uploaded file \"deals.macupdate.com.txt\" with length 28 bytes\n",
            "User uploaded file \"deirdre-lupien.us.txt\" with length 28 bytes\n",
            "User uploaded file \"decorator.crabgrab.cl.txt\" with length 28 bytes\n",
            "User uploaded file \"delfiadlv.hit.gemius.pl.txt\" with length 28 bytes\n",
            "User uploaded file \"dicki.net.txt\" with length 28 bytes\n",
            "User uploaded file \"delia-galvin.us.txt\" with length 28 bytes\n",
            "User uploaded file \"digital-forest.info.txt\" with length 28 bytes\n",
            "User uploaded file \"dj.renren.com.txt\" with length 28 bytes\n",
            "User uploaded file \"dl.ezthemes.com.txt\" with length 28 bytes\n",
            "User uploaded file \"dnps.us.intellitxt.com.txt\" with length 28 bytes\n",
            "User uploaded file \"dobjgpqzygow.com.txt\" with length 28 bytes\n",
            "User uploaded file \"docs.pinion.gg.txt\" with length 28 bytes\n",
            "User uploaded file \"docs1.iwon.com.txt\" with length 28 bytes\n",
            "User uploaded file \"download.mywebsearch.com.txt\" with length 28 bytes\n",
            "User uploaded file \"download.trustworthydownload.com.txt\" with length 28 bytes\n",
            "User uploaded file \"downloads.kissmetrics.com.txt\" with length 28 bytes\n",
            "User uploaded file \"dp-medien.eu.txt\" with length 28 bytes\n",
            "User uploaded file \"drumcash.com.txt\" with length 28 bytes\n",
            "User uploaded file \"dreampartners.ru.txt\" with length 28 bytes\n",
            "User uploaded file \"dubijsirwtwq.com.txt\" with length 28 bytes\n",
            "User uploaded file \"durtz.com.txt\" with length 28 bytes\n",
            "User uploaded file \"dvnafl0qtqz9k.cloudfront.net.txt\" with length 28 bytes\n",
            "User uploaded file \"e.ligatus.com.txt\" with length 28 bytes\n",
            "User uploaded file \"ea.clubic.com.txt\" with length 28 bytes\n",
            "User uploaded file \"ec.atdmt.com.txt\" with length 28 bytes\n",
            "User uploaded file \"edge.bredg.com.txt\" with length 28 bytes\n",
            "User uploaded file \"ecoupons.com.txt\" with length 28 bytes\n",
            "User uploaded file \"efashionsolutions.122.2o7.net.txt\" with length 28 bytes\n",
            "User uploaded file \"engine.bang.doublepimp.com.txt\" with length 28 bytes\n",
            "User uploaded file \"ehg-amerix.hitbox.com.txt\" with length 28 bytes\n",
            "User uploaded file \"enterads.com.txt\" with length 28 bytes\n",
            "User uploaded file \"eu.webprodcdn.com.txt\" with length 28 bytes\n",
            "User uploaded file \"eqszmuwnozvx.com.txt\" with length 28 bytes\n",
            "User uploaded file \"eusta.de.txt\" with length 28 bytes\n",
            "User uploaded file \"evergage.com.txt\" with length 28 bytes\n",
            "User uploaded file \"exsexytop.tk.txt\" with length 28 bytes\n",
            "User uploaded file \"fabriquer.ovh.txt\" with length 28 bytes\n",
            "User uploaded file \"external-lhr9-1.xx.fbcdn.net.txt\" with length 28 bytes\n",
            "User uploaded file \"fallencrafts.info.txt\" with length 28 bytes\n",
            "User uploaded file \"fbtrack.webtrekk.net.txt\" with length 28 bytes\n",
            "User uploaded file \"fast.anz.demdex.net.txt\" with length 28 bytes\n",
            "User uploaded file \"fetishfitnessbabes.com.txt\" with length 28 bytes\n",
            "User uploaded file \"fisari.com.txt\" with length 28 bytes\n",
            "User uploaded file \"ffhwzaenzoue.com.txt\" with length 28 bytes\n",
            "User uploaded file \"fm3gvfak.bid.txt\" with length 28 bytes\n",
            "User uploaded file \"fnkyyrgraizy.com.txt\" with length 28 bytes\n",
            "User uploaded file \"fixzila.com.txt\" with length 28 bytes\n",
            "User uploaded file \"forexyard.com.txt\" with length 28 bytes\n",
            "User uploaded file \"forum.data.ero-advertising.com.txt\" with length 28 bytes\n",
            "User uploaded file \"foxtv.us.intellitxt.com.txt\" with length 28 bytes\n",
            "User uploaded file \"fra118.ib.adnxs.com.txt\" with length 28 bytes\n",
            "User uploaded file \"fra145.ib.adnxs.com.txt\" with length 28 bytes\n",
            "User uploaded file \"fra210.ib.adnxs.com.txt\" with length 28 bytes\n",
            "User uploaded file \"fra328.ib.adnxs.com.txt\" with length 28 bytes\n",
            "User uploaded file \"fra330.ib.adnxs.com.txt\" with length 28 bytes\n",
            "User uploaded file \"fuder.ru.txt\" with length 28 bytes\n",
            "User uploaded file \"fra473.ib.adnxs.com.txt\" with length 28 bytes\n",
            "User uploaded file \"fun.searchwho.com.txt\" with length 28 bytes\n",
            "User uploaded file \"futurepay.globway.eu.txt\" with length 28 bytes\n",
            "User uploaded file \"fxrgikipxnlq.com.txt\" with length 28 bytes\n",
            "User uploaded file \"geoaddicted.net.txt\" with length 28 bytes\n",
            "User uploaded file \"geoloc90.geovisite.com.txt\" with length 28 bytes\n",
            "User uploaded file \"getpaidtosurfthenetmoney.homestead.com.txt\" with length 28 bytes\n",
            "User uploaded file \"gi.sfr.fr.txt\" with length 28 bytes\n",
            "User uploaded file \"ggean.voluumtrk.com.txt\" with length 28 bytes\n",
            "User uploaded file \"gl-cash.com.txt\" with length 28 bytes\n",
            "User uploaded file \"gleaminist.com.txt\" with length 28 bytes\n",
            "User uploaded file \"globalismedia.com.txt\" with length 28 bytes\n",
            "User uploaded file \"gntbcstwtsp.112.2o7.net.txt\" with length 28 bytes\n",
            "User uploaded file \"global-success-club.net.txt\" with length 28 bytes\n",
            "User uploaded file \"go.startnow.com.txt\" with length 28 bytes\n",
            "User uploaded file \"gocdn.ru.txt\" with length 28 bytes\n",
            "User uploaded file \"golem.met.vgwort.de.txt\" with length 28 bytes\n",
            "User uploaded file \"gvxobjcxcbkb.com.txt\" with length 28 bytes\n",
            "User uploaded file \"graphics.medleyads.com.txt\" with length 28 bytes\n",
            "User uploaded file \"has.it.txt\" with length 28 bytes\n",
            "User uploaded file \"helpdesk.marketbill.com.txt\" with length 28 bytes\n",
            "User uploaded file \"hiplair.com.txt\" with length 28 bytes\n",
            "User uploaded file \"hit.bg.txt\" with length 28 bytes\n",
            "User uploaded file \"hit-parade.com.txt\" with length 28 bytes\n",
            "User uploaded file \"hits.dealer.com.txt\" with length 28 bytes\n",
            "User uploaded file \"host2.adhese.be.txt\" with length 28 bytes\n",
            "User uploaded file \"hostave4.net.txt\" with length 28 bytes\n",
            "User uploaded file \"hotlog.ru.txt\" with length 28 bytes\n",
            "User uploaded file \"hplose.de.txt\" with length 28 bytes\n",
            "User uploaded file \"htmonster.com.txt\" with length 28 bytes\n",
            "User uploaded file \"huluads.info.txt\" with length 28 bytes\n",
            "User uploaded file \"i.j2j.ru.txt\" with length 28 bytes\n",
            "User uploaded file \"icqad011.net.txt\" with length 28 bytes\n",
            "User uploaded file \"i3.cmail1.com.txt\" with length 28 bytes\n",
            "User uploaded file \"icqad013.net.txt\" with length 28 bytes\n",
            "User uploaded file \"hubxt.youporn.com.txt\" with length 28 bytes\n",
            "User uploaded file \"id.google.com.txt\" with length 28 bytes\n",
            "User uploaded file \"images.host.bannerflow.com.txt\" with length 28 bytes\n",
            "User uploaded file \"images.ientrymail.com.txt\" with length 28 bytes\n",
            "User uploaded file \"images.performgroup.com.txt\" with length 28 bytes\n",
            "User uploaded file \"images.revmob.com.txt\" with length 28 bytes\n",
            "User uploaded file \"imgoatxhxior.com.txt\" with length 28 bytes\n",
            "User uploaded file \"img2.zergnet.com.txt\" with length 28 bytes\n",
            "User uploaded file \"imtdtaloqwcz.com.txt\" with length 28 bytes\n",
            "User uploaded file \"increaserev.com.txt\" with length 28 bytes\n",
            "User uploaded file \"info33.info.txt\" with length 28 bytes\n",
            "User uploaded file \"insiderpagescom.122.2o7.net.txt\" with length 28 bytes\n",
            "User uploaded file \"instantbannercreator.com.txt\" with length 28 bytes\n",
            "User uploaded file \"intellinetz.com.txt\" with length 28 bytes\n",
            "User uploaded file \"invites.info-emailer.com.txt\" with length 28 bytes\n",
            "User uploaded file \"janrlobmiroi.com.txt\" with length 28 bytes\n",
            "User uploaded file \"jasmine-wilner.us.txt\" with length 28 bytes\n",
            "User uploaded file \"jcarter.spinbox.net.txt\" with length 28 bytes\n",
            "User uploaded file \"jerrica-godinez.us.txt\" with length 28 bytes\n",
            "User uploaded file \"jlh9b.voluumtrk.com.txt\" with length 28 bytes\n",
            "User uploaded file \"jsauth.mymovies.net.txt\" with length 28 bytes\n",
            "User uploaded file \"js.ad-stir.com.txt\" with length 28 bytes\n",
            "User uploaded file \"k1s.nl.txt\" with length 28 bytes\n",
            "User uploaded file \"k6afu.voluumtrk.com.txt\" with length 28 bytes\n",
            "User uploaded file \"kachkachi.cf.txt\" with length 28 bytes\n",
            "User uploaded file \"keisu02.eproof.com.txt\" with length 28 bytes\n",
            "User uploaded file \"katelin-garlick.us.txt\" with length 28 bytes\n",
            "User uploaded file \"l.player.ooyala.com.txt\" with length 28 bytes\n",
            "User uploaded file \"kesllcmdcsbd.com.txt\" with length 28 bytes\n",
            "User uploaded file \"lady-clicks.ru.txt\" with length 28 bytes\n",
            "User uploaded file \"lara-goodwill.us.txt\" with length 28 bytes\n",
            "User uploaded file \"lego.112.207.net.txt\" with length 28 bytes\n",
            "User uploaded file \"link.alphacut.fr.txt\" with length 28 bytes\n",
            "User uploaded file \"liversely.net.txt\" with length 28 bytes\n",
            "User uploaded file \"log.streamagent.sensic.net.txt\" with length 28 bytes\n",
            "User uploaded file \"logs6.xiti.com.txt\" with length 28 bytes\n",
            "User uploaded file \"lsegt.voluumtrk.com.txt\" with length 28 bytes\n",
            "User uploaded file \"logv21.xiti.com.txt\" with length 28 bytes\n",
            "User uploaded file \"ltgde.adocean.pl.txt\" with length 28 bytes\n",
            "User uploaded file \"luxads.net.txt\" with length 28 bytes\n",
            "User uploaded file \"lvtxg.voluumtrk.com.txt\" with length 28 bytes\n",
            "User uploaded file \"m.adsymptotic.com.txt\" with length 28 bytes\n",
            "User uploaded file \"m.exactag.com.txt\" with length 28 bytes\n",
            "User uploaded file \"ma180-r.analytics.edgekey.net.txt\" with length 28 bytes\n",
            "User uploaded file \"mailer.livejasmin.com.txt\" with length 28 bytes\n",
            "User uploaded file \"mandi-sikes.us.txt\" with length 28 bytes\n",
            "User uploaded file \"map1.adsniper.ru.txt\" with length 28 bytes\n",
            "User uploaded file \"mbox4e.offermatica.com.txt\" with length 28 bytes\n",
            "User uploaded file \"mdadvertising.net.txt\" with length 28 bytes\n",
            "User uploaded file \"mdn1.phluantmobile.net.txt\" with length 28 bytes\n",
            "User uploaded file \"measure.richmetrics.com.txt\" with length 28 bytes\n",
            "User uploaded file \"media-f.vpptechnologies.com.txt\" with length 28 bytes\n",
            "User uploaded file \"metrics.bloomberg.com.txt\" with length 28 bytes\n",
            "User uploaded file \"metrics.pagoda.com.txt\" with length 28 bytes\n",
            "User uploaded file \"microsoftwllivemkt.112.2o7.net.txt\" with length 28 bytes\n",
            "User uploaded file \"micro-win.com.txt\" with length 28 bytes\n",
            "User uploaded file \"miracema.rj.gov.br.txt\" with length 28 bytes\n",
            "User uploaded file \"mi-web13.prod.millennialmedia.com.txt\" with length 28 bytes\n",
            "User uploaded file \"mi-web27.prod.millennialmedia.com.txt\" with length 28 bytes\n",
            "User uploaded file \"mktmobi.com.txt\" with length 28 bytes\n",
            "User uploaded file \"ml8m.com.txt\" with length 28 bytes\n",
            "User uploaded file \"mlogin.linksynergy.com.txt\" with length 28 bytes\n",
            "User uploaded file \"mobidevdom.com.txt\" with length 28 bytes\n",
            "User uploaded file \"mobyrol.com.txt\" with length 28 bytes\n",
            "User uploaded file \"mrp.rubiconproject.com.txt\" with length 28 bytes\n",
            "User uploaded file \"mszfmpseoqbu.com.txt\" with length 28 bytes\n",
            "User uploaded file \"mttwtrack.com.txt\" with length 28 bytes\n",
            "User uploaded file \"mytiwi.com.txt\" with length 28 bytes\n",
            "User uploaded file \"n.vipadvert.net.txt\" with length 28 bytes\n",
            "User uploaded file \"n6.adshostnet.com.txt\" with length 28 bytes\n",
            "User uploaded file \"n62adserv.com.txt\" with length 28 bytes\n",
            "User uploaded file \"natgeongmcom.112.2o7.net.txt\" with length 28 bytes\n",
            "User uploaded file \"neo-neo-xeo.com.txt\" with length 28 bytes\n",
            "User uploaded file \"ns1.datapipe.net.txt\" with length 28 bytes\n",
            "User uploaded file \"nytadvertising.nytimes.com.txt\" with length 28 bytes\n",
            "User uploaded file \"nytrhendersonville.112.2o7.net.txt\" with length 28 bytes\n",
            "User uploaded file \"objects.tremormedia.com.txt\" with length 28 bytes\n",
            "User uploaded file \"oceanwebcraft.com.txt\" with length 28 bytes\n",
            "User uploaded file \"ohlone.vizu.com.txt\" with length 28 bytes\n",
            "User uploaded file \"okeo.ru.txt\" with length 28 bytes\n",
            "User uploaded file \"okk3ssd.com.txt\" with length 28 bytes\n",
            "User uploaded file \"okvmsjyrremu.com.txt\" with length 28 bytes\n",
            "User uploaded file \"openbook.net.txt\" with length 28 bytes\n",
            "User uploaded file \"oss-content.securestudies.com.txt\" with length 28 bytes\n",
            "User uploaded file \"oversee.net.txt\" with length 28 bytes\n",
            "User uploaded file \"ophan.theguardian.com.txt\" with length 28 bytes\n",
            "User uploaded file \"owap.su.txt\" with length 28 bytes\n",
            "User uploaded file \"orf.oewabox.at.txt\" with length 28 bytes\n",
            "User uploaded file \"mobytrks.com.txt\" with length 28 bytes\n",
            "User uploaded file \"ox.mediabistro.com.txt\" with length 28 bytes\n",
            "User uploaded file \"oxado.com.txt\" with length 28 bytes\n",
            "User uploaded file \"oxen.hillcountrytexas.com.txt\" with length 28 bytes\n",
            "User uploaded file \"panoll.com.txt\" with length 28 bytes\n",
            "User uploaded file \"partner.finditquick.com.txt\" with length 28 bytes\n",
            "User uploaded file \"partypartners.com.txt\" with length 28 bytes\n",
            "User uploaded file \"philly.demdex.net.txt\" with length 28 bytes\n",
            "User uploaded file \"pickytime.com.txt\" with length 28 bytes\n",
            "User uploaded file \"pingback.sogou.com.txt\" with length 28 bytes\n",
            "User uploaded file \"pinballpublishernetwork.com.txt\" with length 28 bytes\n",
            "User uploaded file \"pixel.meteora.us.txt\" with length 28 bytes\n",
            "User uploaded file \"pixel1350.everesttech.net.txt\" with length 28 bytes\n",
            "User uploaded file \"pixiv.org.txt\" with length 28 bytes\n",
            "User uploaded file \"pm.fetischsexkontakte.com.txt\" with length 28 bytes\n",
            "User uploaded file \"polaris.tns-cs.net.txt\" with length 28 bytes\n",
            "User uploaded file \"pool.persgroep.adhese.com.txt\" with length 28 bytes\n",
            "User uploaded file \"potvaporizer.com.txt\" with length 28 bytes\n",
            "User uploaded file \"pp.nrelate.com.txt\" with length 28 bytes\n",
            "User uploaded file \"profitpeelers.com.txt\" with length 28 bytes\n",
            "User uploaded file \"projectvrtcl.go2cloud.org.txt\" with length 28 bytes\n",
            "User uploaded file \"promo.worldprofitcenter.com.txt\" with length 28 bytes\n",
            "User uploaded file \"promotionoffer.mobi.txt\" with length 28 bytes\n",
            "User uploaded file \"prwlzpyschwi.com.txt\" with length 28 bytes\n",
            "User uploaded file \"pshcqtizgdlm.com.txt\" with length 28 bytes\n",
            "User uploaded file \"ptwebcams.com.txt\" with length 28 bytes\n",
            "User uploaded file \"px.owneriq.net.txt\" with length 28 bytes\n",
            "User uploaded file \"qlugrmjsncbe.com.txt\" with length 28 bytes\n",
            "User uploaded file \"qxj3b.voluumtrk.com.txt\" with length 28 bytes\n",
            "User uploaded file \"r.apina.biz.txt\" with length 28 bytes\n",
            "User uploaded file \"rakuten.112.2o7.net.txt\" with length 28 bytes\n",
            "User uploaded file \"rbinfox.ru.txt\" with length 28 bytes\n",
            "User uploaded file \"ready4win.com.txt\" with length 28 bytes\n",
            "User uploaded file \"reallblog.info.txt\" with length 28 bytes\n",
            "User uploaded file \"realonlineshop.ugc.bazaarvoice.com.txt\" with length 28 bytes\n",
            "User uploaded file \"redirect1.vip.store.yahoo.com.txt\" with length 28 bytes\n",
            "User uploaded file \"referral.totojitu.com.txt\" with length 28 bytes\n",
            "User uploaded file \"reichelt02.webtrekk.net.txt\" with length 28 bytes\n",
            "User uploaded file \"reinvigorate.net.txt\" with length 28 bytes\n",
            "User uploaded file \"retaraga.ru.txt\" with length 28 bytes\n",
            "User uploaded file \"revmobmobileadnetwork.com.txt\" with length 28 bytes\n",
            "User uploaded file \"rewardisement.com.txt\" with length 28 bytes\n",
            "User uploaded file \"rg1.com.txt\" with length 28 bytes\n",
            "User uploaded file \"rhmed6po.party.txt\" with length 28 bytes\n",
            "User uploaded file \"rmbn.net.txt\" with length 28 bytes\n",
            "User uploaded file \"rtl.2cnt.net.txt\" with length 28 bytes\n",
            "User uploaded file \"rt-rrr.ru.txt\" with length 28 bytes\n",
            "User uploaded file \"rtrgt2.com.txt\" with length 28 bytes\n",
            "User uploaded file \"run.startappexchange.com.txt\" with length 28 bytes\n",
            "User uploaded file \"rv.furaffinity.net.txt\" with length 28 bytes\n",
            "User uploaded file \"s3.shinystat.com.txt\" with length 28 bytes\n",
            "User uploaded file \"s4.hit.stat.pl.txt\" with length 28 bytes\n",
            "User uploaded file \"s62.research.de.com.txt\" with length 28 bytes\n",
            "User uploaded file \"scopelight.com.txt\" with length 28 bytes\n",
            "User uploaded file \"scripts.adrcdn.com.txt\" with length 28 bytes\n",
            "User uploaded file \"sdk.native123.com.txt\" with length 28 bytes\n",
            "User uploaded file \"seavideo22.com.txt\" with length 28 bytes\n",
            "User uploaded file \"secure.adnxs.com.txt\" with length 28 bytes\n",
            "User uploaded file \"secure-yt.imrworldwide.com.txt\" with length 28 bytes\n",
            "User uploaded file \"seitentipp.com.txt\" with length 28 bytes\n",
            "User uploaded file \"sellhealth.com.txt\" with length 28 bytes\n",
            "User uploaded file \"services.carmunity.de.txt\" with length 28 bytes\n",
            "User uploaded file \"sgcdn.duplomediaas.netdna-cdn.com.txt\" with length 28 bytes\n",
            "User uploaded file \"sherry-klingbeil.us.txt\" with length 28 bytes\n",
            "User uploaded file \"showede.com.txt\" with length 28 bytes\n",
            "User uploaded file \"sierra-arwood.us.txt\" with length 28 bytes\n",
            "User uploaded file \"site-checksite.tk.txt\" with length 28 bytes\n",
            "User uploaded file \"simply.com.txt\" with length 28 bytes\n",
            "User uploaded file \"smarterrorpage.com.txt\" with length 28 bytes\n",
            "User uploaded file \"smi24x7.com.txt\" with length 28 bytes\n",
            "User uploaded file \"snack-media.com.txt\" with length 28 bytes\n",
            "User uploaded file \"sniff.visistat.com.txt\" with length 28 bytes\n",
            "User uploaded file \"sodud.com.txt\" with length 28 bytes\n",
            "User uploaded file \"sondra-nowell.us.txt\" with length 28 bytes\n",
            "User uploaded file \"speedclics.ero-advertising.com.txt\" with length 28 bytes\n",
            "User uploaded file \"sponsoredtweets.com.txt\" with length 28 bytes\n",
            "User uploaded file \"sponsormob.com.txt\" with length 28 bytes\n",
            "User uploaded file \"spytrack.tic.ru.txt\" with length 28 bytes\n",
            "User uploaded file \"sqm.telemetry.microsoft.com.nsatc.net.txt\" with length 28 bytes\n",
            "User uploaded file \"ssl-vg03.met.vgwort.de.txt\" with length 28 bytes\n",
            "User uploaded file \"stat.segitek.hu.txt\" with length 28 bytes\n",
            "User uploaded file \"stat.funshion.net.txt\" with length 28 bytes\n",
            "User uploaded file \"stat.tianya.cn.txt\" with length 28 bytes\n",
            "User uploaded file \"statdb.pressflex.com.txt\" with length 28 bytes\n",
            "User uploaded file \"static.ifa.yobtcams.com.txt\" with length 28 bytes\n",
            "User uploaded file \"static.ngbn.net.txt\" with length 28 bytes\n",
            "User uploaded file \"static.parsely.com.txt\" with length 28 bytes\n",
            "User uploaded file \"stats.coronalabs.com.txt\" with length 28 bytes\n",
            "User uploaded file \"stats.matomy.com.txt\" with length 28 bytes\n",
            "User uploaded file \"support.com-support-help.online.txt\" with length 28 bytes\n",
            "User uploaded file \"sy.eu.angsrvr.com.txt\" with length 28 bytes\n",
            "User uploaded file \"syndicate.payloadz.com.txt\" with length 28 bytes\n",
            "User uploaded file \"sys.osttirol-online.at.txt\" with length 28 bytes\n",
            "User uploaded file \"t.bimvid.com.txt\" with length 28 bytes\n",
            "User uploaded file \"t.trackedlink.net.txt\" with length 28 bytes\n",
            "User uploaded file \"tak.ru.txt\" with length 28 bytes\n",
            "User uploaded file \"talkingdata.com.txt\" with length 28 bytes\n",
            "User uploaded file \"targettrafficmarketing.net.txt\" with length 28 bytes\n",
            "User uploaded file \"taodggarfrmd.com.txt\" with length 28 bytes\n",
            "User uploaded file \"tcyeyccspxod.com.txt\" with length 28 bytes\n",
            "User uploaded file \"teasercode.net.txt\" with length 28 bytes\n",
            "User uploaded file \"td-everest.biz.txt\" with length 28 bytes\n",
            "User uploaded file \"techzine.nl.intellitxt.com.txt\" with length 28 bytes\n",
            "User uploaded file \"teromil.com.txt\" with length 28 bytes\n",
            "User uploaded file \"test.doublepimp.com.txt\" with length 28 bytes\n",
            "User uploaded file \"tg.socdm.com.txt\" with length 28 bytes\n",
            "User uploaded file \"thairesort.ru.txt\" with length 28 bytes\n",
            "User uploaded file \"tggay.top.txt\" with length 28 bytes\n",
            "User uploaded file \"timestrends.timesnow.tv.txt\" with length 28 bytes\n",
            "User uploaded file \"tmserver-1.com.txt\" with length 28 bytes\n",
            "User uploaded file \"tmstrack.com.txt\" with length 28 bytes\n",
            "User uploaded file \"tns.simba.taobao.com.txt\" with length 28 bytes\n",
            "User uploaded file \"tomi.net.ru.txt\" with length 28 bytes\n",
            "User uploaded file \"tomiti.ru.txt\" with length 28 bytes\n",
            "User uploaded file \"top1.list.ru.txt\" with length 28 bytes\n",
            "User uploaded file \"top20.com.invalid.txt\" with length 28 bytes\n",
            "User uploaded file \"tophotoffers.com.txt\" with length 28 bytes\n",
            "User uploaded file \"tostickad.com.txt\" with length 28 bytes\n",
            "User uploaded file \"toruk.tanx.com.txt\" with length 28 bytes\n",
            "User uploaded file \"tour.cum-covered-gfs.com.txt\" with length 28 bytes\n",
            "User uploaded file \"track.zipalerts.com.txt\" with length 28 bytes\n",
            "User uploaded file \"tracking.cmcigroup.com.txt\" with length 28 bytes\n",
            "User uploaded file \"tradetraffic.com.txt\" with length 28 bytes\n",
            "User uploaded file \"traffic.firstmobilelink.com.txt\" with length 28 bytes\n",
            "User uploaded file \"traffpartner.ru.txt\" with length 28 bytes\n",
            "User uploaded file \"traftiz.com.txt\" with length 28 bytes\n",
            "User uploaded file \"traileraddict.us.intellitxt.com.txt\" with length 28 bytes\n",
            "User uploaded file \"trailerstube.ru.txt\" with length 28 bytes\n",
            "User uploaded file \"trusearch.net.txt\" with length 28 bytes\n",
            "User uploaded file \"treprime.com.txt\" with length 28 bytes\n",
            "User uploaded file \"trjhhuhn.com.txt\" with length 28 bytes\n",
            "User uploaded file \"trandsey.info.txt\" with length 28 bytes\n",
            "User uploaded file \"try9.com.txt\" with length 28 bytes\n",
            "User uploaded file \"ts2.hitbox.com.txt\" with length 28 bytes\n",
            "User uploaded file \"turnersports.112.2o7.net.txt\" with length 28 bytes\n",
            "User uploaded file \"tualipoly.net.txt\" with length 28 bytes\n",
            "User uploaded file \"u099.40.spylog.com.txt\" with length 28 bytes\n",
            "User uploaded file \"ughwashis.ru.txt\" with length 28 bytes\n",
            "User uploaded file \"um-per.com.txt\" with length 28 bytes\n",
            "User uploaded file \"ukreggae.ru.txt\" with length 28 bytes\n",
            "User uploaded file \"u1157.21.spylog.com.txt\" with length 28 bytes\n",
            "User uploaded file \"upsoj.iptvdeals.com.txt\" with length 28 bytes\n",
            "User uploaded file \"uroki21.ru.txt\" with length 28 bytes\n",
            "User uploaded file \"us.sitestat.com.txt\" with length 28 bytes\n",
            "User uploaded file \"v11media.com.txt\" with length 28 bytes\n",
            "User uploaded file \"videozr.com.txt\" with length 28 bytes\n",
            "User uploaded file \"viutb.com.txt\" with length 28 bytes\n",
            "User uploaded file \"vogozapa.ru.txt\" with length 28 bytes\n",
            "User uploaded file \"vroll.net.txt\" with length 28 bytes\n",
            "User uploaded file \"w4.com.txt\" with length 28 bytes\n",
            "User uploaded file \"w7.hitbox.com.txt\" with length 28 bytes\n",
            "User uploaded file \"vrstage.com.txt\" with length 28 bytes\n",
            "User uploaded file \"w27.hitbox.com.txt\" with length 28 bytes\n",
            "User uploaded file \"wafmedia3.com.txt\" with length 28 bytes\n",
            "User uploaded file \"w122.hitbox.com.txt\" with length 28 bytes\n",
            "User uploaded file \"web1.51.la.txt\" with length 28 bytes\n",
            "User uploaded file \"web1.realtracker.com.txt\" with length 28 bytes\n",
            "User uploaded file \"webocat.ru.txt\" with length 28 bytes\n",
            "User uploaded file \"weebvivian72.uk.to.txt\" with length 28 bytes\n",
            "User uploaded file \"wggnmbmedlmo.com.txt\" with length 28 bytes\n",
            "User uploaded file \"whinteryield.jmp9.com.txt\" with length 28 bytes\n",
            "User uploaded file \"widget.scoutpa.com.txt\" with length 28 bytes\n",
            "User uploaded file \"widgets.lendingtree.com.txt\" with length 28 bytes\n",
            "User uploaded file \"wklyhvfc.com.txt\" with length 28 bytes\n",
            "User uploaded file \"w-loko.com.txt\" with length 28 bytes\n",
            "User uploaded file \"worldwidemailer.com.txt\" with length 28 bytes\n",
            "User uploaded file \"wowboom2.ru.txt\" with length 28 bytes\n",
            "User uploaded file \"wrap.tradedoubler.com.txt\" with length 28 bytes\n",
            "User uploaded file \"wsod.com.txt\" with length 28 bytes\n",
            "User uploaded file \"wrapper.askmen.com.txt\" with length 28 bytes\n",
            "User uploaded file \"www.1liveinternet.ru.txt\" with length 28 bytes\n",
            "User uploaded file \"www.09up8g9xh7.com.txt\" with length 28 bytes\n",
            "User uploaded file \"www.9ts3tpia.com.txt\" with length 28 bytes\n",
            "User uploaded file \"www.25kt8q8l.review.txt\" with length 28 bytes\n",
            "User uploaded file \"www.600z.com.txt\" with length 28 bytes\n",
            "User uploaded file \"www.888poker.com.txt\" with length 28 bytes\n",
            "User uploaded file \"www.a-0001.a-msedge.net.txt\" with length 28 bytes\n",
            "User uploaded file \"www.aboutads.quantcast.com.txt\" with length 28 bytes\n",
            "User uploaded file \"www.ad.imad.co.kr.txt\" with length 28 bytes\n",
            "User uploaded file \"www.abtest.mistat.xiaomi.com.txt\" with length 28 bytes\n",
            "User uploaded file \"www.ad.mangareader.net.txt\" with length 28 bytes\n",
            "User uploaded file \"www.ad.openmultimedia.biz.txt\" with length 28 bytes\n",
            "User uploaded file \"www.adcamp.ru.txt\" with length 28 bytes\n",
            "User uploaded file \"www.ad.smaad.jp.txt\" with length 28 bytes\n",
            "User uploaded file \"www.ad.netcommunities.com.txt\" with length 28 bytes\n",
            "User uploaded file \"www.ademails.com.txt\" with length 28 bytes\n",
            "User uploaded file \"www.adfeedstrk.com.txt\" with length 28 bytes\n",
            "User uploaded file \"www.adinfo.tango.me.txt\" with length 28 bytes\n",
            "User uploaded file \"www.adikteev.com.txt\" with length 28 bytes\n",
            "User uploaded file \"www.admedo.com.txt\" with length 28 bytes\n",
            "User uploaded file \"www.adjector.com.txt\" with length 28 bytes\n",
            "User uploaded file \"www.adopshost1.com.txt\" with length 28 bytes\n",
            "User uploaded file \"www.adplex.media.txt\" with length 28 bytes\n",
            "User uploaded file \"www.adprotected.com.txt\" with length 28 bytes\n",
            "User uploaded file \"www.ads-elsevier.net.txt\" with length 28 bytes\n",
            "User uploaded file \"www.adservpi.com.txt\" with length 28 bytes\n",
            "User uploaded file \"www.adservinginternational.com.txt\" with length 28 bytes\n",
            "User uploaded file \"www.adsp.com.txt\" with length 28 bytes\n",
            "User uploaded file \"www.adstark.com.txt\" with length 28 bytes\n",
            "User uploaded file \"www.adxite.com.txt\" with length 28 bytes\n",
            "User uploaded file \"www.adurr.com.txt\" with length 28 bytes\n",
            "User uploaded file \"www.adsyst.biz.txt\" with length 28 bytes\n",
            "User uploaded file \"www.beringmedia.com.txt\" with length 28 bytes\n",
            "User uploaded file \"www.api.appfireworks.com.txt\" with length 28 bytes\n",
            "User uploaded file \"www.ambushar.net.txt\" with length 28 bytes\n",
            "User uploaded file \"www.banner.titanpoker.com.txt\" with length 28 bytes\n",
            "User uploaded file \"www.a-ssl.ligatus.com.txt\" with length 28 bytes\n",
            "User uploaded file \"www.boodlewrite.com.txt\" with length 28 bytes\n",
            "User uploaded file \"www.bluandi.com.txt\" with length 28 bytes\n",
            "User uploaded file \"www.api.appsee.com.txt\" with length 28 bytes\n",
            "User uploaded file \"www.bostonwall.com.txt\" with length 28 bytes\n",
            "User uploaded file \"www.brandaffinity.net.txt\" with length 28 bytes\n",
            "User uploaded file \"www.asmosi.info.txt\" with length 28 bytes\n",
            "User uploaded file \"www.bulgarine.com.txt\" with length 28 bytes\n",
            "User uploaded file \"www.burlyblogs.com.txt\" with length 28 bytes\n",
            "User uploaded file \"www.buxept.com.txt\" with length 28 bytes\n",
            "User uploaded file \"www.bxoixzbtllwx.com.txt\" with length 28 bytes\n",
            "User uploaded file \"www.c.bigmir.net.txt\" with length 28 bytes\n",
            "User uploaded file \"www.bza.co.txt\" with length 28 bytes\n",
            "User uploaded file \"www.cash4movie.com.txt\" with length 28 bytes\n",
            "User uploaded file \"www.counter4you.net.txt\" with length 28 bytes\n",
            "User uploaded file \"www.commoncannon.com.txt\" with length 28 bytes\n",
            "User uploaded file \"www.coreg-feed.fr.txt\" with length 28 bytes\n",
            "User uploaded file \"www.corporative.ru.txt\" with length 28 bytes\n",
            "User uploaded file \"www.cpa.ly.txt\" with length 28 bytes\n",
            "User uploaded file \"www.cpvmarketplace.info.txt\" with length 28 bytes\n",
            "User uploaded file \"www.creatives.summitconnect.co.uk.txt\" with length 28 bytes\n",
            "User uploaded file \"www.d31807xkria1x4.cloudfront.net.txt\" with length 28 bytes\n",
            "User uploaded file \"www.d3nvrqlo8rj1kw.cloudfront.net.txt\" with length 28 bytes\n",
            "User uploaded file \"www.dante2007.com.txt\" with length 28 bytes\n",
            "User uploaded file \"www.dlfxyr7b.science.txt\" with length 28 bytes\n",
            "User uploaded file \"www.double.net.txt\" with length 28 bytes\n",
            "User uploaded file \"www.dbojgaxhxalh.com.txt\" with length 28 bytes\n",
            "User uploaded file \"www.dubijsirwtwq.com.txt\" with length 28 bytes\n",
            "User uploaded file \"www.drivotracker.com.txt\" with length 28 bytes\n",
            "User uploaded file \"www.duchmcmpmqqu.com.txt\" with length 28 bytes\n",
            "User uploaded file \"www.eojrldtucqsf.com.txt\" with length 28 bytes\n",
            "User uploaded file \"www.esloten.ru.txt\" with length 28 bytes\n",
            "User uploaded file \"www.eva-parkin.us.txt\" with length 28 bytes\n",
            "User uploaded file \"www.everinform.com.txt\" with length 28 bytes\n",
            "User uploaded file \"www.euroconcept.ro.txt\" with length 28 bytes\n",
            "User uploaded file \"www.excalatom.com.txt\" with length 28 bytes\n",
            "User uploaded file \"www.everyscape.com.txt\" with length 28 bytes\n",
            "User uploaded file \"www.extstat.info.txt\" with length 28 bytes\n",
            "User uploaded file \"www.exitforcash.com.txt\" with length 28 bytes\n",
            "User uploaded file \"www.fasadobygg.com.txt\" with length 28 bytes\n",
            "User uploaded file \"www.admitad.com.txt\" with length 28 bytes\n",
            "User uploaded file \"www.ax47mp-xp-21.com.txt\" with length 28 bytes\n",
            "User uploaded file \"www.brook-durante.us.txt\" with length 28 bytes\n",
            "User uploaded file \"www.bucketsofbanners.com.txt\" with length 28 bytes\n",
            "User uploaded file \"www.ccbaobjyprxh.com.txt\" with length 28 bytes\n",
            "User uploaded file \"www.cdn.teads.tv.txt\" with length 28 bytes\n",
            "User uploaded file \"www.cd828.com.txt\" with length 28 bytes\n",
            "User uploaded file \"www.coinurl.com.txt\" with length 28 bytes\n",
            "User uploaded file \"www.clickboothlnk.com.txt\" with length 28 bytes\n",
            "User uploaded file \"www.clickmeter.com.txt\" with length 28 bytes\n",
            "User uploaded file \"www.clipurl.club.txt\" with length 28 bytes\n",
            "User uploaded file \"www.gbkfkofgmks.com.txt\" with length 28 bytes\n",
            "User uploaded file \"www.findonlinesurveysforcash.com.txt\" with length 28 bytes\n",
            "User uploaded file \"www.findsatisfaction.com.txt\" with length 28 bytes\n",
            "User uploaded file \"www.foonad.com.txt\" with length 28 bytes\n",
            "User uploaded file \"www.foulsomty.com.txt\" with length 28 bytes\n",
            "User uploaded file \"www.geek2us.net.txt\" with length 28 bytes\n",
            "User uploaded file \"www.icgakpprechm.com.txt\" with length 28 bytes\n",
            "User uploaded file \"www.genusaceracousticophobia.com.txt\" with length 28 bytes\n",
            "User uploaded file \"www.geobanner.blacksexmatch.com.txt\" with length 28 bytes\n",
            "User uploaded file \"www.getsearchlist.com.txt\" with length 28 bytes\n",
            "User uploaded file \"www.grotomesko.online.txt\" with length 28 bytes\n",
            "User uploaded file \"www.grt02.com.txt\" with length 28 bytes\n",
            "User uploaded file \"www.gtop.ro.txt\" with length 28 bytes\n",
            "User uploaded file \"www.healthaffiliatesnetwork.com.txt\" with length 28 bytes\n",
            "User uploaded file \"uyqzlnmdtfpnqskyyvidmllmzauitvaijcgqjldwcwvewjgwfj.com.txt\" with length 28 bytes\n",
            "User uploaded file \"www.hgfsdzfs.com.txt\" with length 28 bytes\n",
            "User uploaded file \"www.hit28.hotlog.ru.txt\" with length 28 bytes\n",
            "User uploaded file \"www.hjiss.com.txt\" with length 28 bytes\n",
            "User uploaded file \"www.hotsocialz.com.txt\" with length 28 bytes\n",
            "User uploaded file \"engine.spoutable.com.txt\" with length 28 bytes\n",
            "User uploaded file \"www.hwmgcurmtkxk.bid.txt\" with length 28 bytes\n",
            "User uploaded file \"www.interupload.com.txt\" with length 28 bytes\n",
            "User uploaded file \"www.idownloadgalore.com.txt\" with length 28 bytes\n",
            "User uploaded file \"www.internetmedia.com.au.txt\" with length 28 bytes\n",
            "User uploaded file \"www.imads.ero-advertising.com.txt\" with length 28 bytes\n",
            "User uploaded file \"www.ivwbox.de.txt\" with length 28 bytes\n",
            "User uploaded file \"www.jhrmgusalkdu.com.txt\" with length 28 bytes\n",
            "User uploaded file \"www.keywordpop.com.txt\" with length 28 bytes\n",
            "User uploaded file \"www.kimberley-mackinnon.us.txt\" with length 28 bytes\n",
            "User uploaded file \"www.kyveduvdkbro.com.txt\" with length 28 bytes\n",
            "User uploaded file \"www.letsgoshopping.tk.txt\" with length 28 bytes\n",
            "User uploaded file \"www.live-advert.net.txt\" with length 28 bytes\n",
            "User uploaded file \"www.kost.tv.txt\" with length 28 bytes\n",
            "User uploaded file \"www.lavetawhiting.com.txt\" with length 28 bytes\n",
            "User uploaded file \"www.lirte.org.txt\" with length 28 bytes\n",
            "User uploaded file \"www.mc-nudes.com.txt\" with length 28 bytes\n",
            "User uploaded file \"www.mbn.com.ua.txt\" with length 28 bytes\n",
            "User uploaded file \"www.mdeaoowvqxma.com.txt\" with length 28 bytes\n",
            "User uploaded file \"www.measuread.com.txt\" with length 28 bytes\n",
            "User uploaded file \"www.meetic-partners.com.txt\" with length 28 bytes\n",
            "User uploaded file \"www.m2.ai.txt\" with length 28 bytes\n",
            "User uploaded file \"www.myiframe.com.txt\" with length 28 bytes\n",
            "User uploaded file \"www.lizk.co.txt\" with length 28 bytes\n",
            "User uploaded file \"www.linono.ru.txt\" with length 28 bytes\n",
            "User uploaded file \"www.media-app.com.txt\" with length 28 bytes\n",
            "User uploaded file \"www.medialand.ru.txt\" with length 28 bytes\n",
            "User uploaded file \"www.linkoffers.net.txt\" with length 28 bytes\n",
            "User uploaded file \"www.megaad.nz.txt\" with length 28 bytes\n",
            "User uploaded file \"www.metric.gstatic.com.txt\" with length 28 bytes\n",
            "User uploaded file \"www.nativeleads.net.txt\" with length 28 bytes\n",
            "User uploaded file \"www.mnjgoxmx.com.txt\" with length 28 bytes\n",
            "User uploaded file \"www.naiadexports.com.txt\" with length 28 bytes\n",
            "User uploaded file \"www.miner.pr0gramm.com.txt\" with length 28 bytes\n",
            "User uploaded file \"www.nadavi.ru.txt\" with length 28 bytes\n",
            "User uploaded file \"www.mizmhwicqhprznhflygfnymqbmvwokewzlmymmvjodqlizwlrf.com.txt\" with length 28 bytes\n",
            "User uploaded file \"www.monu.delivery.txt\" with length 28 bytes\n",
            "User uploaded file \"www.lotame.com.txt\" with length 28 bytes\n",
            "User uploaded file \"www.trafficposse.com.txt\" with length 28 bytes\n",
            "User uploaded file \"www.vlvmo.space.txt\" with length 28 bytes\n",
            "User uploaded file \"www.vortex-win.data.microsoft.com.txt\" with length 28 bytes\n",
            "User uploaded file \"www.vhmnetwork.com.txt\" with length 28 bytes\n",
            "User uploaded file \"www.wafmedia5.com.txt\" with length 28 bytes\n",
            "User uploaded file \"www.vuiads.net.txt\" with length 28 bytes\n",
            "User uploaded file \"www.neosap.ru.txt\" with length 28 bytes\n",
            "User uploaded file \"www.olctpejrnnfh.com.txt\" with length 28 bytes\n",
            "User uploaded file \"www.newsles.ru.txt\" with length 28 bytes\n",
            "User uploaded file \"www.offsbst.ru.txt\" with length 28 bytes\n",
            "User uploaded file \"www.onerror.gq.txt\" with length 28 bytes\n",
            "User uploaded file \"www.optimum-hits.com.txt\" with length 28 bytes\n",
            "User uploaded file \"www.nrfort.com.txt\" with length 28 bytes\n",
            "User uploaded file \"www.nihewfi.net.txt\" with length 28 bytes\n",
            "User uploaded file \"www.nvqsjdvgqnyk.com.txt\" with length 28 bytes\n",
            "User uploaded file \"www.otm-r.com.txt\" with length 28 bytes\n",
            "User uploaded file \"www.onkcjpgmshqx.com.txt\" with length 28 bytes\n",
            "User uploaded file \"www.oridasapap.com.txt\" with length 28 bytes\n",
            "User uploaded file \"www.mycasinoaccounts.com.txt\" with length 28 bytes\n",
            "User uploaded file \"www.nqvlw.com.txt\" with length 28 bytes\n",
            "User uploaded file \"www.pinktrkn.com.txt\" with length 28 bytes\n",
            "User uploaded file \"www.poppcheck.de.txt\" with length 28 bytes\n",
            "User uploaded file \"www.pubads.g.doubleclick.net.txt\" with length 28 bytes\n",
            "User uploaded file \"www.pyksf.com.txt\" with length 28 bytes\n",
            "User uploaded file \"www.qazzzxwynmot.com.txt\" with length 28 bytes\n",
            "User uploaded file \"www.r.qip.ru.txt\" with length 28 bytes\n",
            "User uploaded file \"www.qyzoejyqbqyd.com.txt\" with length 28 bytes\n",
            "User uploaded file \"www.replase.ga.txt\" with length 28 bytes\n",
            "User uploaded file \"www.rapidcounter.com.txt\" with length 28 bytes\n",
            "User uploaded file \"www.revcontent.com.txt\" with length 28 bytes\n",
            "User uploaded file \"www.s5block.com.txt\" with length 28 bytes\n",
            "User uploaded file \"www.shopik.tv.txt\" with length 28 bytes\n",
            "User uploaded file \"www.selosin.com.txt\" with length 28 bytes\n",
            "User uploaded file \"www.spytrack.tic.ru.txt\" with length 28 bytes\n",
            "User uploaded file \"www.smiar.ru.txt\" with length 28 bytes\n",
            "User uploaded file \"www.stayinhomeandlovinit.com.txt\" with length 28 bytes\n",
            "User uploaded file \"ads.queendom.com.txt\" with length 28 bytes\n",
            "User uploaded file \"www.suparewards.com.txt\" with length 28 bytes\n",
            "User uploaded file \"www.superclix.de.txt\" with length 28 bytes\n",
            "User uploaded file \"www.t.appsflyer.com.txt\" with length 28 bytes\n",
            "User uploaded file \"www.synerpattern.com.txt\" with length 28 bytes\n",
            "User uploaded file \"www.tagclearbits.com.txt\" with length 28 bytes\n",
            "User uploaded file \"www.teraxhif.com.txt\" with length 28 bytes\n",
            "User uploaded file \"www.testfilter.com.txt\" with length 28 bytes\n",
            "User uploaded file \"www.tech5877413.ru.txt\" with length 28 bytes\n",
            "User uploaded file \"www.tiser.com.txt\" with length 28 bytes\n",
            "User uploaded file \"www.ujqafhcsrhyz.com.txt\" with length 28 bytes\n",
            "User uploaded file \"www.tizerlady.win.txt\" with length 28 bytes\n",
            "User uploaded file \"www.tusno.com.txt\" with length 28 bytes\n",
            "User uploaded file \"www.traffichaus.com.txt\" with length 28 bytes\n",
            "User uploaded file \"www.vibrant.co.txt\" with length 28 bytes\n",
            "User uploaded file \"www.titsbro.net.txt\" with length 28 bytes\n",
            "User uploaded file \"www.vcwdjbbughuy.com.txt\" with length 28 bytes\n",
            "User uploaded file \"www.toonfamilies.net.txt\" with length 28 bytes\n",
            "User uploaded file \"www.watersoul.com.txt\" with length 28 bytes\n",
            "User uploaded file \"www.webgozar.ir.txt\" with length 28 bytes\n",
            "User uploaded file \"www.webmoblink.com.txt\" with length 28 bytes\n",
            "User uploaded file \"www.webprowire.com.txt\" with length 28 bytes\n",
            "User uploaded file \"www.wensdteuy.com.txt\" with length 28 bytes\n",
            "User uploaded file \"www.webtrendslive.com.txt\" with length 28 bytes\n",
            "User uploaded file \"www.widgetwidget.mobi.txt\" with length 28 bytes\n",
            "User uploaded file \"www.withnewswearebest.com.txt\" with length 28 bytes\n",
            "User uploaded file \"www.xxltr.com.txt\" with length 28 bytes\n",
            "User uploaded file \"www.ynwia.com.txt\" with length 28 bytes\n",
            "User uploaded file \"www.zprrfpczfpnh.com.txt\" with length 28 bytes\n",
            "User uploaded file \"www.zoom-film.ru.txt\" with length 28 bytes\n",
            "User uploaded file \"www.zkeuc7vszq.ru.txt\" with length 28 bytes\n",
            "User uploaded file \"www.yourfoxes4.ru.txt\" with length 28 bytes\n",
            "User uploaded file \"www28.a8.net.txt\" with length 28 bytes\n",
            "User uploaded file \"www61.overture.com.txt\" with length 28 bytes\n",
            "User uploaded file \"www4.counter.bloke.com.txt\" with length 28 bytes\n",
            "User uploaded file \"wwwcultofmaccom.skimlinks.com.txt\" with length 28 bytes\n",
            "User uploaded file \"www-old.nastydollars.com.txt\" with length 28 bytes\n",
            "User uploaded file \"xml.trafficsyndicate.com.txt\" with length 28 bytes\n",
            "User uploaded file \"www.visualsteel.net.txt\" with length 28 bytes\n",
            "User uploaded file \"x11.ifdef.jp.txt\" with length 28 bytes\n",
            "User uploaded file \"x.mobalert.net.txt\" with length 28 bytes\n",
            "User uploaded file \"zango.112.2o7.net.txt\" with length 28 bytes\n",
            "User uploaded file \"yaboshadi.com.txt\" with length 28 bytes\n",
            "User uploaded file \"yontoo.com.txt\" with length 28 bytes\n",
            "User uploaded file \"zavetiss.ru.txt\" with length 28 bytes\n",
            "User uploaded file \"zclpro.com.txt\" with length 28 bytes\n",
            "User uploaded file \"zfqpjxuycxdl.com.txt\" with length 28 bytes\n",
            "User uploaded file \"www.marketoring.com.txt\" with length 28 bytes\n",
            "User uploaded file \"zi.zeroredirect1.com.txt\" with length 28 bytes\n",
            "User uploaded file \"zn.zeroredirect1.com.txt\" with length 28 bytes\n",
            "User uploaded file \"www.ylhjsrwqtqqb.com.txt\" with length 28 bytes\n",
            "User uploaded file \"zsancthhfvqm.com.txt\" with length 28 bytes\n",
            "User uploaded file \"kayleigh-kilian.us.txt\" with length 28 bytes\n",
            "User uploaded file \"partners.optiontide.com.txt\" with length 28 bytes\n",
            "User uploaded file \"up.cm.ksmobile.com.txt\" with length 28 bytes\n",
            "User uploaded file \"www.doubleverify.com.txt\" with length 28 bytes\n",
            "User uploaded file \"www.currentupdateconcepts.com.txt\" with length 28 bytes\n",
            "User uploaded file \"www.uroki21.ru.txt\" with length 28 bytes\n",
            "User uploaded file \"test-script.dotmetrics.net.txt\" with length 28 bytes\n",
            "User uploaded file \"www.magnetisemedia.com.txt\" with length 28 bytes\n",
            "User uploaded file \"yhglrmvdxmxm.com.txt\" with length 28 bytes\n"
          ]
        }
      ],
      "source": [
        "# if using Google Colab\n",
        "import os\n",
        "from google.colab import files\n",
        "path=\"/content/drive/MyDrive/Texts\"\n",
        "\n",
        "for fn in os.listdir(path):\n",
        "  print('User uploaded file \"{name}\" with length {length} bytes'.format(\n",
        "      name=fn, length=len(path)))\n",
        "  \n",
        "# Click Files tab - the updload file(s) will be there"
      ]
    },
    {
      "cell_type": "markdown",
      "metadata": {
        "id": "dhmPv312ej5X"
      },
      "source": [
        "In case you have multiple files that need to be merged:"
      ]
    },
    {
      "cell_type": "code",
      "execution_count": null,
      "metadata": {
        "id": "Diu-RxbycCnQ",
        "colab": {
          "base_uri": "https://localhost:8080/"
        },
        "outputId": "64e6b588-fd2e-4d29-aced-233947b9cf3f"
      },
      "outputs": [
        {
          "output_type": "stream",
          "name": "stdout",
          "text": [
            "Found 831 books\n",
            "Text is 6525863 characters long\n"
          ]
        }
      ],
      "source": [
        "#If using a directory with multiple files\n",
        "import glob\n",
        "import codecs\n",
        "books = sorted(glob.glob(\"/content/drive/MyDrive/Texts\" + \"/*.txt\"))\n",
        "print(\"Found {} books\".format(len(books)))\n",
        "\n",
        "text = \"\"\n",
        "for filename in books:\n",
        "    with codecs.open(filename, 'r', 'utf-8') as books:\n",
        "        text += books.read()\n",
        "\n",
        "print(\"Text is {} characters long\".format(len(text)))"
      ]
    },
    {
      "cell_type": "code",
      "execution_count": null,
      "metadata": {
        "id": "ITkDCoKndL3k"
      },
      "outputs": [],
      "source": [
        "#If using a single file\n",
        "text = open(path + '/Iliad_v3.txt', 'rb').read().decode(encoding='utf-8')\n",
        "print(\"Text is {} characters long\".format(len(text)))"
      ]
    },
    {
      "cell_type": "code",
      "execution_count": null,
      "metadata": {
        "id": "y9pruxZJXlkX",
        "colab": {
          "base_uri": "https://localhost:8080/"
        },
        "outputId": "15f78777-b17c-4f5c-96ff-4abba6f37b6b"
      },
      "outputs": [
        {
          "output_type": "stream",
          "name": "stdout",
          "text": [
            "Text is 761441 words long\n"
          ]
        }
      ],
      "source": [
        "words = [w for w in text.split(' ') if w.strip() != '' or w == '\\n']\n",
        "print(\"Text is {} words long\".format(len(words)))"
      ]
    },
    {
      "cell_type": "markdown",
      "metadata": {
        "id": "6haqpbyNahWL"
      },
      "source": [
        "Make sure the text sample is what you expected:"
      ]
    },
    {
      "cell_type": "code",
      "execution_count": null,
      "metadata": {
        "id": "gdrWeIZCac2b",
        "colab": {
          "base_uri": "https://localhost:8080/"
        },
        "outputId": "ec319594-d4d9-4075-e6c0-436c89eaf0b0"
      },
      "outputs": [
        {
          "output_type": "stream",
          "name": "stdout",
          "text": [
            "ПОЛИТИКА ИСПОЛЬЗОВАНИЯ ФАЙЛОВ COOKIES\r\n",
            "Когда вы пользуетесь нашим сайтом, мы можем собирать информац\n"
          ]
        }
      ],
      "source": [
        "print(text[:100])"
      ]
    },
    {
      "cell_type": "markdown",
      "metadata": {
        "id": "YKI0wsZne8o9"
      },
      "source": [
        "## Prepare the text"
      ]
    },
    {
      "cell_type": "code",
      "execution_count": null,
      "metadata": {
        "id": "AgcMBNHxfn4D",
        "colab": {
          "base_uri": "https://localhost:8080/"
        },
        "outputId": "56b6ce0a-6db3-46ee-c2b5-b3a6890be962"
      },
      "outputs": [
        {
          "output_type": "stream",
          "name": "stdout",
          "text": [
            "There are 222 unique characters\n",
            "Vector:\n",
            "\n",
            " '\\t':   0,\n",
            " '\\n':   1,\n",
            " '\\r':   2,\n",
            " ' ' :   3,\n",
            " '!' :   4,\n",
            " '\"' :   5,\n",
            " '#' :   6,\n",
            " '$' :   7,\n",
            " '%' :   8,\n",
            " '&' :   9,\n",
            " \"'\" :  10,\n",
            " '(' :  11,\n",
            " ')' :  12,\n",
            " '*' :  13,\n",
            " '+' :  14,\n",
            " ',' :  15,\n",
            " '-' :  16,\n",
            " '.' :  17,\n",
            " '/' :  18,\n",
            " '0' :  19,\n",
            " '1' :  20,\n",
            " '2' :  21,\n",
            " '3' :  22,\n",
            " '4' :  23,\n",
            " '5' :  24,\n",
            " '6' :  25,\n",
            " '7' :  26,\n",
            " '8' :  27,\n",
            " '9' :  28,\n",
            " ':' :  29,\n",
            " ';' :  30,\n",
            " '<' :  31,\n",
            " '=' :  32,\n",
            " '>' :  33,\n",
            " '?' :  34,\n",
            " '@' :  35,\n",
            " 'A' :  36,\n",
            " 'B' :  37,\n",
            " 'C' :  38,\n",
            " 'D' :  39,\n",
            " 'E' :  40,\n",
            " 'F' :  41,\n",
            " 'G' :  42,\n",
            " 'H' :  43,\n",
            " 'I' :  44,\n",
            " 'J' :  45,\n",
            " 'K' :  46,\n",
            " 'L' :  47,\n",
            " 'M' :  48,\n",
            " 'N' :  49,\n",
            " 'O' :  50,\n",
            " 'P' :  51,\n",
            " 'Q' :  52,\n",
            " 'R' :  53,\n",
            " 'S' :  54,\n",
            " 'T' :  55,\n",
            " 'U' :  56,\n",
            " 'V' :  57,\n",
            " 'W' :  58,\n",
            " 'X' :  59,\n",
            " 'Y' :  60,\n",
            " 'Z' :  61,\n",
            " '[' :  62,\n",
            " '\\\\':  63,\n",
            " ']' :  64,\n",
            " '_' :  65,\n",
            " '`' :  66,\n",
            " 'a' :  67,\n",
            " 'b' :  68,\n",
            " 'c' :  69,\n",
            " 'd' :  70,\n",
            " 'e' :  71,\n",
            " 'f' :  72,\n",
            " 'g' :  73,\n",
            " 'h' :  74,\n",
            " 'i' :  75,\n",
            " 'j' :  76,\n",
            " 'k' :  77,\n",
            " 'l' :  78,\n",
            " 'm' :  79,\n",
            " 'n' :  80,\n",
            " 'o' :  81,\n",
            " 'p' :  82,\n",
            " 'q' :  83,\n",
            " 'r' :  84,\n",
            " 's' :  85,\n",
            " 't' :  86,\n",
            " 'u' :  87,\n",
            " 'v' :  88,\n",
            " 'w' :  89,\n",
            " 'x' :  90,\n",
            " 'y' :  91,\n",
            " 'z' :  92,\n",
            " '{' :  93,\n",
            " '|' :  94,\n",
            " '}' :  95,\n",
            " '~' :  96,\n",
            " '\\xa0':  97,\n",
            " '©' :  98,\n",
            " '«' :  99,\n",
            " '®' : 100,\n",
            " '·' : 101,\n",
            " '»' : 102,\n",
            " 'Ç' : 103,\n",
            " '×' : 104,\n",
            " 'Ø' : 105,\n",
            " 'Ü' : 106,\n",
            " 'ß' : 107,\n",
            " 'à' : 108,\n",
            " 'ä' : 109,\n",
            " 'æ' : 110,\n",
            " 'è' : 111,\n",
            " 'é' : 112,\n",
            " 'ê' : 113,\n",
            " 'ì' : 114,\n",
            " 'ó' : 115,\n",
            " 'ö' : 116,\n",
            " 'ø' : 117,\n",
            " 'ü' : 118,\n",
            " 'ī' : 119,\n",
            " 'İ' : 120,\n",
            " 'ı' : 121,\n",
            " 'ł' : 122,\n",
            " 'ń' : 123,\n",
            " 'Ş' : 124,\n",
            " 'ų' : 125,\n",
            " '̆' : 126,\n",
            " 'Ё' : 127,\n",
            " 'А' : 128,\n",
            " 'Б' : 129,\n",
            " 'В' : 130,\n",
            " 'Г' : 131,\n",
            " 'Д' : 132,\n",
            " 'Е' : 133,\n",
            " 'Ж' : 134,\n",
            " 'З' : 135,\n",
            " 'И' : 136,\n",
            " 'Й' : 137,\n",
            " 'К' : 138,\n",
            " 'Л' : 139,\n",
            " 'М' : 140,\n",
            " 'Н' : 141,\n",
            " 'О' : 142,\n",
            " 'П' : 143,\n",
            " 'Р' : 144,\n",
            " 'С' : 145,\n",
            " 'Т' : 146,\n",
            " 'У' : 147,\n",
            " 'Ф' : 148,\n",
            " 'Х' : 149,\n",
            " 'Ц' : 150,\n",
            " 'Ч' : 151,\n",
            " 'Ш' : 152,\n",
            " 'Щ' : 153,\n",
            " 'Ъ' : 154,\n",
            " 'Ы' : 155,\n",
            " 'Ь' : 156,\n",
            " 'Э' : 157,\n",
            " 'Ю' : 158,\n",
            " 'Я' : 159,\n",
            " 'а' : 160,\n",
            " 'б' : 161,\n",
            " 'в' : 162,\n",
            " 'г' : 163,\n",
            " 'д' : 164,\n",
            " 'е' : 165,\n",
            " 'ж' : 166,\n",
            " 'з' : 167,\n",
            " 'и' : 168,\n",
            " 'й' : 169,\n",
            " 'к' : 170,\n",
            " 'л' : 171,\n",
            " 'м' : 172,\n",
            " 'н' : 173,\n",
            " 'о' : 174,\n",
            " 'п' : 175,\n",
            " 'р' : 176,\n",
            " 'с' : 177,\n",
            " 'т' : 178,\n",
            " 'у' : 179,\n",
            " 'ф' : 180,\n",
            " 'х' : 181,\n",
            " 'ц' : 182,\n",
            " 'ч' : 183,\n",
            " 'ш' : 184,\n",
            " 'щ' : 185,\n",
            " 'ъ' : 186,\n",
            " 'ы' : 187,\n",
            " 'ь' : 188,\n",
            " 'э' : 189,\n",
            " 'ю' : 190,\n",
            " 'я' : 191,\n",
            " 'ё' : 192,\n",
            " 'і' : 193,\n",
            " '\\u200b': 194,\n",
            " '‐' : 195,\n",
            " '‑' : 196,\n",
            " '–' : 197,\n",
            " '—' : 198,\n",
            " '―' : 199,\n",
            " '‘' : 200,\n",
            " '’' : 201,\n",
            " '“' : 202,\n",
            " '”' : 203,\n",
            " '„' : 204,\n",
            " '•' : 205,\n",
            " '…' : 206,\n",
            " '\\u202f': 207,\n",
            " '›' : 208,\n",
            " '\\u2060': 209,\n",
            " '€' : 210,\n",
            " '№' : 211,\n",
            " '™' : 212,\n",
            " '〈' : 213,\n",
            " 'ⓘ' : 214,\n",
            " '─' : 215,\n",
            " '▪' : 216,\n",
            " '●' : 217,\n",
            " '♦' : 218,\n",
            " '\\uf0b7': 219,\n",
            " '\\ufeff': 220,\n",
            " '🍪' : 221,\n"
          ]
        }
      ],
      "source": [
        "#Map unique characters to indices\n",
        "vocab = sorted(set(text))\n",
        "print ('There are {} unique characters'.format(len(vocab)))\n",
        "char2int = {c:i for i, c in enumerate(vocab)}\n",
        "int2char = np.array(vocab)\n",
        "print('Vector:\\n')\n",
        "for char,_ in zip(char2int, range(len(vocab))):\n",
        "   print(' {:4s}: {:3d},'.format(repr(char), char2int[char]))"
      ]
    },
    {
      "cell_type": "code",
      "execution_count": null,
      "metadata": {
        "id": "ypjqjoHEfJXg",
        "colab": {
          "base_uri": "https://localhost:8080/"
        },
        "outputId": "274dc6bc-c88b-4077-c7c9-01f81b213fcb"
      },
      "outputs": [
        {
          "output_type": "stream",
          "name": "stdout",
          "text": [
            "'ПОЛИТИКА ИСПОЛЬЗОВАНИЯ ФАЙЛОВ COOKIES\\r\\nКогда вы пользуетесь нашим сайтом, мы можем собирать информац'\n",
            " mapped to integers:\n",
            " [143 142 139 136 146 136 138 128   3 136 145 143 142 139 156 135 142 130\n",
            " 128 141 136 159   3 148 128 137 139 142 130   3  38  50  50  46  44  40\n",
            "  54   2   1 138 174 163 164 160   3 162 187   3 175 174 171 188 167 179\n",
            " 165 178 165 177 188   3 173 160 184 168 172   3 177 160 169 178 174 172\n",
            "  15   3 172 187   3 172 174 166 165 172   3 177 174 161 168 176 160 178\n",
            " 188   3 168 173 180 174 176 172 160 182]\n"
          ]
        }
      ],
      "source": [
        "text_as_int = np.array([char2int[ch] for ch in text], dtype=np.int32)\n",
        "print ('{}\\n mapped to integers:\\n {}'.format(repr(text[:100]), text_as_int[:100]))"
      ]
    },
    {
      "cell_type": "code",
      "execution_count": null,
      "metadata": {
        "id": "-FBpLzLYsqCb"
      },
      "outputs": [],
      "source": [
        "tr_text = text_as_int[:5000000] #text separated for training, divisible by the batch size (64)\n",
        "val_text = text_as_int[5000000:] #text separated for validation"
      ]
    },
    {
      "cell_type": "markdown",
      "metadata": {
        "id": "2gB2GHvvga26"
      },
      "source": [
        "Comfirm the shapes are what we expect:"
      ]
    },
    {
      "cell_type": "code",
      "execution_count": null,
      "metadata": {
        "id": "1DU6Dwj8hEtI",
        "colab": {
          "base_uri": "https://localhost:8080/"
        },
        "outputId": "acb22749-c559-44e4-d969-68856c7bf5b5"
      },
      "outputs": [
        {
          "output_type": "stream",
          "name": "stdout",
          "text": [
            "(6525863,) (5000000,) (1525863,)\n"
          ]
        }
      ],
      "source": [
        "print(text_as_int.shape, tr_text.shape, val_text.shape)"
      ]
    },
    {
      "cell_type": "markdown",
      "metadata": {
        "id": "uZZLCyTNHONf"
      },
      "source": [
        "## Build the model"
      ]
    },
    {
      "cell_type": "code",
      "execution_count": null,
      "metadata": {
        "id": "Wy5yl7d2heq6"
      },
      "outputs": [],
      "source": [
        "# Populate the library of tunables - I like keeping them centralized in case I need to change things around:\n",
        "batch_size = 64\n",
        "buffer_size = 10000\n",
        "embedding_dim = 256\n",
        "epochs = 30\n",
        "seq_length = 200\n",
        "examples_per_epoch = len(text)//seq_length\n",
        "#lr = 0.001 #will use default for Adam optimizer\n",
        "rnn_units = 1024\n",
        "vocab_size = len(vocab)"
      ]
    },
    {
      "cell_type": "code",
      "execution_count": null,
      "metadata": {
        "id": "1e9_DLdGsqC0",
        "colab": {
          "base_uri": "https://localhost:8080/"
        },
        "outputId": "8d16502c-984a-4d3e-9c54-717d835fdaaf"
      },
      "outputs": [
        {
          "output_type": "stream",
          "name": "stdout",
          "text": [
            "<TensorSliceDataset element_spec=TensorSpec(shape=(), dtype=tf.int32, name=None)> <TensorSliceDataset element_spec=TensorSpec(shape=(), dtype=tf.int32, name=None)>\n",
            "<BatchDataset element_spec=TensorSpec(shape=(201,), dtype=tf.int32, name=None)> <BatchDataset element_spec=TensorSpec(shape=(201,), dtype=tf.int32, name=None)>\n",
            "'ПОЛИТИКА ИСПОЛЬЗОВАНИЯ ФАЙЛОВ COOKIES\\r\\nКогда вы пользуетесь нашим сайтом, мы можем собирать информацию с помощью файлов cookies. Вся информация полностью конфиденциальна и никогда не передается третьим'\n",
            "tf.Tensor(\n",
            "[143 142 139 136 146 136 138 128   3 136 145 143 142 139 156 135 142 130\n",
            " 128 141 136 159   3 148 128 137 139 142 130   3  38  50  50  46  44  40\n",
            "  54   2   1 138 174 163 164 160   3 162 187   3 175 174 171 188 167 179\n",
            " 165 178 165 177 188   3 173 160 184 168 172   3 177 160 169 178 174 172\n",
            "  15   3 172 187   3 172 174 166 165 172   3 177 174 161 168 176 160 178\n",
            " 188   3 168 173 180 174 176 172 160 182 168 190   3 177   3 175 174 172\n",
            " 174 185 188 190   3 180 160 169 171 174 162   3  69  81  81  77  75  71\n",
            "  85  17   3 130 177 191   3 168 173 180 174 176 172 160 182 168 191   3\n",
            " 175 174 171 173 174 177 178 188 190   3 170 174 173 180 168 164 165 173\n",
            " 182 168 160 171 188 173 160   3 168   3 173 168 170 174 163 164 160   3\n",
            " 173 165   3 175 165 176 165 164 160 165 178 177 191   3 178 176 165 178\n",
            " 188 168 172], shape=(201,), dtype=int32)\n",
            "'\\n\\r\\nОтключение / отклонение файлов cookie в настройках вашего интернет-браузера\\r\\n\\r\\nВсе современные браузеры предлагают возможность изменять настройки файлов cookie. Доступ к опции \"Справка\" браузера для'\n",
            "tf.Tensor(\n",
            "[  1   2   1 142 178 170 171 190 183 165 173 168 165   3  18   3 174 178\n",
            " 170 171 174 173 165 173 168 165   3 180 160 169 171 174 162   3  69  81\n",
            "  81  77  75  71   3 162   3 173 160 177 178 176 174 169 170 160 181   3\n",
            " 162 160 184 165 163 174   3 168 173 178 165 176 173 165 178  16 161 176\n",
            " 160 179 167 165 176 160   2   1   2   1 130 177 165   3 177 174 162 176\n",
            " 165 172 165 173 173 187 165   3 161 176 160 179 167 165 176 187   3 175\n",
            " 176 165 164 171 160 163 160 190 178   3 162 174 167 172 174 166 173 174\n",
            " 177 178 188   3 168 167 172 165 173 191 178 188   3 173 160 177 178 176\n",
            " 174 169 170 168   3 180 160 169 171 174 162   3  69  81  81  77  75  71\n",
            "  17   3 132 174 177 178 179 175   3 170   3 174 175 182 168 168   3   5\n",
            " 145 175 176 160 162 170 160   5   3 161 176 160 179 167 165 176 160   3\n",
            " 164 171 191], shape=(201,), dtype=int32)\n"
          ]
        }
      ],
      "source": [
        "tr_char_dataset = tf.data.Dataset.from_tensor_slices(tr_text)\n",
        "val_char_dataset = tf.data.Dataset.from_tensor_slices(val_text)\n",
        "print(tr_char_dataset, val_char_dataset)\n",
        "tr_sequences = tr_char_dataset.batch(seq_length+1, drop_remainder=True)\n",
        "val_sequences = val_char_dataset.batch(seq_length+1, drop_remainder=True)\n",
        "print(tr_sequences, val_sequences)\n",
        "\n",
        "for item in tr_sequences.take(1):\n",
        "    print(repr(''.join(int2char[item.numpy()])))\n",
        "    print(item)\n",
        "for item in val_sequences.take(1):\n",
        "    print(repr(''.join(int2char[item.numpy()])))\n",
        "    print(item)"
      ]
    },
    {
      "cell_type": "code",
      "execution_count": null,
      "metadata": {
        "id": "1Asy0RHPFzsc",
        "colab": {
          "base_uri": "https://localhost:8080/"
        },
        "outputId": "299b6716-4143-4ba1-87c2-83a36c206d80"
      },
      "outputs": [
        {
          "output_type": "stream",
          "name": "stdout",
          "text": [
            "<BatchDataset element_spec=(TensorSpec(shape=(64, 200), dtype=tf.int32, name=None), TensorSpec(shape=(64, 200), dtype=tf.int32, name=None))> <BatchDataset element_spec=(TensorSpec(shape=(64, 200), dtype=tf.int32, name=None), TensorSpec(shape=(64, 200), dtype=tf.int32, name=None))>\n"
          ]
        }
      ],
      "source": [
        "def split_input_target(chunk):\n",
        "    input_text = chunk[:-1]\n",
        "    target_text = chunk[1:]\n",
        "    return input_text, target_text\n",
        "\n",
        "tr_dataset = tr_sequences.map(split_input_target).shuffle(buffer_size).batch(batch_size, drop_remainder=True)\n",
        "val_dataset = val_sequences.map(split_input_target).shuffle(buffer_size).batch(batch_size, drop_remainder=True)\n",
        "print(tr_dataset, val_dataset)"
      ]
    },
    {
      "cell_type": "code",
      "execution_count": null,
      "metadata": {
        "id": "7Ta6TWbuF7Fx"
      },
      "outputs": [],
      "source": [
        "def build_model(vocab_size, embedding_dim, rnn_units, batch_size):\n",
        "    model = tf.keras.Sequential([\n",
        "        tf.keras.layers.Embedding(vocab_size, embedding_dim,\n",
        "                              batch_input_shape=[batch_size, None]),\n",
        "        tf.keras.layers.Dropout(0.2),\n",
        "        tf.keras.layers.LSTM(rnn_units,\n",
        "                        return_sequences=True,\n",
        "                        stateful=True,\n",
        "                        recurrent_initializer='glorot_uniform'),\n",
        "        tf.keras.layers.Dropout(0.2), \n",
        "        tf.keras.layers.LSTM(rnn_units,\n",
        "                        return_sequences=True,\n",
        "                        stateful=True,\n",
        "                        recurrent_initializer='glorot_uniform'),\n",
        "        tf.keras.layers.Dropout(0.2),\n",
        "        tf.keras.layers.Dense(vocab_size)\n",
        "    ])\n",
        "    return model"
      ]
    },
    {
      "cell_type": "code",
      "execution_count": null,
      "metadata": {
        "id": "dXyjPJ1oG_N3"
      },
      "outputs": [],
      "source": [
        "model = build_model(\n",
        "    vocab_size = len(vocab),\n",
        "    embedding_dim=embedding_dim,\n",
        "    rnn_units=rnn_units,\n",
        "    batch_size=batch_size)"
      ]
    },
    {
      "cell_type": "markdown",
      "metadata": {
        "id": "6qLDewlkHcP4"
      },
      "source": [
        "## Run the model"
      ]
    },
    {
      "cell_type": "markdown",
      "metadata": {
        "id": "FwAn1CzeHu3m"
      },
      "source": [
        "Check the output shape"
      ]
    },
    {
      "cell_type": "code",
      "execution_count": null,
      "metadata": {
        "id": "nkUviDjkHHkl",
        "colab": {
          "base_uri": "https://localhost:8080/"
        },
        "outputId": "c6f09664-c91b-4eaf-e496-a5495edb7a34"
      },
      "outputs": [
        {
          "output_type": "stream",
          "name": "stdout",
          "text": [
            "(64, 200, 222) respectively: batch_size, sequence_length, vocab_size\n"
          ]
        }
      ],
      "source": [
        "for input_example_batch, target_example_batch in tr_dataset.take(1):\n",
        "    example_batch_predictions = model(input_example_batch)\n",
        "    print(example_batch_predictions.shape, \"respectively: batch_size, sequence_length, vocab_size\")"
      ]
    },
    {
      "cell_type": "code",
      "execution_count": null,
      "metadata": {
        "id": "LtEcXnYhHyVz",
        "colab": {
          "base_uri": "https://localhost:8080/"
        },
        "outputId": "b77b4d09-5d7f-4a32-ba80-4eb5ca69efa4"
      },
      "outputs": [
        {
          "output_type": "stream",
          "name": "stdout",
          "text": [
            "Model: \"sequential_3\"\n",
            "_________________________________________________________________\n",
            " Layer (type)                Output Shape              Param #   \n",
            "=================================================================\n",
            " embedding_3 (Embedding)     (64, None, 256)           56832     \n",
            "                                                                 \n",
            " dropout_9 (Dropout)         (64, None, 256)           0         \n",
            "                                                                 \n",
            " lstm_6 (LSTM)               (64, None, 1024)          5246976   \n",
            "                                                                 \n",
            " dropout_10 (Dropout)        (64, None, 1024)          0         \n",
            "                                                                 \n",
            " lstm_7 (LSTM)               (64, None, 1024)          8392704   \n",
            "                                                                 \n",
            " dropout_11 (Dropout)        (64, None, 1024)          0         \n",
            "                                                                 \n",
            " dense_3 (Dense)             (64, None, 222)           227550    \n",
            "                                                                 \n",
            "=================================================================\n",
            "Total params: 13,924,062\n",
            "Trainable params: 13,924,062\n",
            "Non-trainable params: 0\n",
            "_________________________________________________________________\n"
          ]
        }
      ],
      "source": [
        "model.summary()"
      ]
    },
    {
      "cell_type": "markdown",
      "metadata": {
        "id": "tYGhrBXKIM4x"
      },
      "source": [
        "Untrained model output:"
      ]
    },
    {
      "cell_type": "code",
      "execution_count": null,
      "metadata": {
        "id": "qq-g-DmKIBkp",
        "colab": {
          "base_uri": "https://localhost:8080/"
        },
        "outputId": "4efdf880-9cc4-4087-ef51-e4f2b8dbde5c"
      },
      "outputs": [
        {
          "output_type": "stream",
          "name": "stdout",
          "text": [
            "Input: \n",
            " ' вы сможете найти дополнительную информацию о том, кем мы являемся, как связаться с нами и как мы осуществляем обработку персональных данных.\\r\\n\\r\\n \\r\\n\\r\\n ПОЛИТИКА И ПРЕДПОЧТЕНИЯ В ОТНОШЕНИИ ФАЙЛОВ COOKIE'\n",
            "\n",
            "Predictions: \n",
            " 'êØ:Yп–üöYШ·ZыÇ-Ж_–GШid.»―4yЦБ•@\\u202f1öПRe•вШ)WJдПбТ„d06#нń\\tO{L4\\\\ЮzvъSH”р,!х|1xrнw=CⓘbF\\xa0y‑жыДØgØоbбcóщRr\\xa0wbpЁ!?КtEЯ©иъpIJk.D‑ЗАШtgйeÇ%f-®―а3MМТJ\\xa0×+4j®ус\\u202f·%СÇ×|ЫЦИФ\\tт›ЬSдLÇ88Lq«-„l[/pЫrQФc/Г7нs]н#─чЗÜз●Мöfw'\n"
          ]
        }
      ],
      "source": [
        "sampled_indices = tf.random.categorical(example_batch_predictions[0], num_samples=1)\n",
        "sampled_indices = tf.squeeze(sampled_indices,axis=-1).numpy()\n",
        "print(\"Input: \\n\", repr(\"\".join(int2char[input_example_batch[0]])))\n",
        "print()\n",
        "print(\"Predictions: \\n\", repr(\"\".join(int2char[sampled_indices ])))"
      ]
    },
    {
      "cell_type": "code",
      "execution_count": null,
      "metadata": {
        "id": "u744e_goIOzP",
        "colab": {
          "base_uri": "https://localhost:8080/"
        },
        "outputId": "6c44397e-3f0e-4106-dc2d-06bf3ae65fd9"
      },
      "outputs": [
        {
          "output_type": "stream",
          "name": "stdout",
          "text": [
            "Prediction shape:  (64, 200, 222)  # (batch_size, sequence_length, vocab_size)\n",
            "Loss:       5.402708\n",
            "Accuracy:       0.002578125\n"
          ]
        }
      ],
      "source": [
        "def loss(labels, logits):\n",
        "    return tf.keras.losses.sparse_categorical_crossentropy(labels, logits, from_logits=True)\n",
        "def accuracy(labels, logits):\n",
        "    return tf.keras.metrics.sparse_categorical_accuracy(labels, logits)\n",
        "\n",
        "example_batch_loss  = loss(target_example_batch, example_batch_predictions)\n",
        "example_batch_acc  = accuracy(target_example_batch, example_batch_predictions)\n",
        "print(\"Prediction shape: \", example_batch_predictions.shape, \" # (batch_size, sequence_length, vocab_size)\")\n",
        "print(\"Loss:      \", example_batch_loss.numpy().mean())\n",
        "print(\"Accuracy:      \", example_batch_acc.numpy().mean())"
      ]
    },
    {
      "cell_type": "code",
      "execution_count": null,
      "metadata": {
        "id": "DEvIj65tIshz"
      },
      "outputs": [],
      "source": [
        "optimizer = tf.keras.optimizers.Adam() \n",
        "model.compile(optimizer=optimizer, loss=loss) "
      ]
    },
    {
      "cell_type": "code",
      "execution_count": null,
      "metadata": {
        "id": "QDzNCe8YSeXY"
      },
      "outputs": [],
      "source": [
        "patience = 10\n",
        "early_stop = tf.keras.callbacks.EarlyStopping(monitor='val_loss', patience=patience)"
      ]
    },
    {
      "cell_type": "code",
      "execution_count": null,
      "metadata": {
        "id": "gEGtTQMKJdgo"
      },
      "outputs": [],
      "source": [
        "checkpoint_dir = './checkpoints'+ datetime.datetime.now().strftime(\"_%Y.%m.%d-%H:%M:%S\")\n",
        "checkpoint_prefix = os.path.join(checkpoint_dir, \"ckpt_{epoch}\")\n",
        "\n",
        "checkpoint_callback=tf.keras.callbacks.ModelCheckpoint(\n",
        "    filepath=checkpoint_prefix,\n",
        "    save_weights_only=True)"
      ]
    },
    {
      "cell_type": "code",
      "execution_count": null,
      "metadata": {
        "id": "m-o-W4MXI115",
        "colab": {
          "base_uri": "https://localhost:8080/"
        },
        "outputId": "c8bb7c45-5473-44b2-d3f3-989f0f54d9b6"
      },
      "outputs": [
        {
          "output_type": "stream",
          "name": "stdout",
          "text": [
            "Epoch 1/30\n",
            "388/388 [==============================] - 337s 854ms/step - loss: 2.1243 - val_loss: 1.1753\n",
            "Epoch 2/30\n",
            "388/388 [==============================] - 335s 857ms/step - loss: 1.0614 - val_loss: 0.9115\n",
            "Epoch 3/30\n",
            "388/388 [==============================] - 335s 855ms/step - loss: 0.8888 - val_loss: 0.8075\n",
            "Epoch 4/30\n",
            "388/388 [==============================] - 335s 856ms/step - loss: 0.7954 - val_loss: 0.7457\n",
            "Epoch 5/30\n",
            "388/388 [==============================] - 334s 854ms/step - loss: 0.7332 - val_loss: 0.7055\n",
            "Epoch 6/30\n",
            "388/388 [==============================] - 333s 851ms/step - loss: 0.6871 - val_loss: 0.6761\n",
            "Epoch 7/30\n",
            "388/388 [==============================] - 332s 849ms/step - loss: 0.6508 - val_loss: 0.6538\n",
            "Epoch 8/30\n",
            "388/388 [==============================] - 332s 847ms/step - loss: 0.6210 - val_loss: 0.6354\n",
            "Epoch 9/30\n",
            "388/388 [==============================] - 332s 848ms/step - loss: 0.5968 - val_loss: 0.6218\n",
            "Epoch 10/30\n",
            "388/388 [==============================] - 332s 849ms/step - loss: 0.5762 - val_loss: 0.6108\n",
            "Epoch 11/30\n",
            "388/388 [==============================] - 333s 851ms/step - loss: 0.5592 - val_loss: 0.6015\n",
            "Epoch 12/30\n",
            "388/388 [==============================] - 336s 858ms/step - loss: 0.5444 - val_loss: 0.5938\n",
            "Epoch 13/30\n",
            "388/388 [==============================] - 336s 858ms/step - loss: 0.5311 - val_loss: 0.5880\n",
            "Epoch 14/30\n",
            "388/388 [==============================] - 334s 853ms/step - loss: 0.5204 - val_loss: 0.5833\n",
            "Epoch 15/30\n",
            "388/388 [==============================] - 334s 854ms/step - loss: 0.5109 - val_loss: 0.5776\n",
            "Epoch 16/30\n",
            "388/388 [==============================] - 335s 855ms/step - loss: 0.5029 - val_loss: 0.5757\n",
            "Epoch 17/30\n",
            "388/388 [==============================] - 335s 855ms/step - loss: 0.4952 - val_loss: 0.5700\n",
            "Epoch 18/30\n",
            "388/388 [==============================] - 335s 855ms/step - loss: 0.4886 - val_loss: 0.5689\n",
            "Epoch 19/30\n",
            "388/388 [==============================] - 334s 853ms/step - loss: 0.4833 - val_loss: 0.5663\n",
            "Epoch 20/30\n",
            "388/388 [==============================] - 332s 848ms/step - loss: 0.4779 - val_loss: 0.5672\n",
            "Epoch 21/30\n",
            "388/388 [==============================] - 333s 851ms/step - loss: 0.4747 - val_loss: 0.5629\n",
            "Epoch 22/30\n",
            "388/388 [==============================] - 333s 849ms/step - loss: 0.4698 - val_loss: 0.5633\n",
            "Epoch 23/30\n",
            "388/388 [==============================] - 333s 851ms/step - loss: 0.4673 - val_loss: 0.5578\n",
            "Epoch 24/30\n",
            "388/388 [==============================] - 333s 852ms/step - loss: 0.4639 - val_loss: 0.5610\n",
            "Epoch 25/30\n",
            "388/388 [==============================] - 333s 850ms/step - loss: 0.4626 - val_loss: 0.5578\n",
            "Epoch 26/30\n",
            "388/388 [==============================] - 333s 850ms/step - loss: 0.4590 - val_loss: 0.5577\n",
            "Epoch 27/30\n",
            "388/388 [==============================] - 333s 851ms/step - loss: 0.4576 - val_loss: 0.5586\n",
            "Epoch 28/30\n",
            "388/388 [==============================] - 332s 849ms/step - loss: 0.4566 - val_loss: 0.5569\n",
            "Epoch 29/30\n",
            "388/388 [==============================] - 334s 852ms/step - loss: 0.4555 - val_loss: 0.5538\n",
            "Epoch 30/30\n",
            "388/388 [==============================] - 333s 850ms/step - loss: 0.4543 - val_loss: 0.5577\n",
            "Training stopped as there was no improvement after 10 epochs\n"
          ]
        }
      ],
      "source": [
        "history = model.fit(tr_dataset, epochs=epochs, callbacks=[checkpoint_callback, early_stop] , validation_data=val_dataset)\n",
        "print (\"Training stopped as there was no improvement after {} epochs\".format(patience))"
      ]
    },
    {
      "cell_type": "code",
      "execution_count": null,
      "metadata": {
        "id": "_sluYs8sJW5Y",
        "colab": {
          "base_uri": "https://localhost:8080/",
          "height": 567
        },
        "outputId": "86969304-8960-40ed-f5a7-f651adc4b4f0"
      },
      "outputs": [
        {
          "output_type": "display_data",
          "data": {
            "text/plain": [
              "<Figure size 864x648 with 1 Axes>"
            ],
            "image/png": "[encoded data removed]"
          },
          "metadata": {
            "needs_background": "light"
          }
        }
      ],
      "source": [
        "import matplotlib.pyplot as plt\n",
        "\n",
        "plt.figure(figsize=(12,9))\n",
        "plt.plot(history.history['loss'], 'g')\n",
        "plt.plot(history.history['val_loss'], 'rx') #use if have val data\n",
        "plt.title('Model Loss')\n",
        "plt.ylabel('Loss')\n",
        "plt.xlabel('Epoch')\n",
        "plt.legend(['Train'], loc='upper right')\n",
        "plt.legend(['Train', 'Validation'], loc='upper right') #use if have val date\n",
        "plt.show()"
      ]
    },
    {
      "cell_type": "markdown",
      "metadata": {
        "id": "WWDBRn1rJ-FT"
      },
      "source": [
        "## Generate text"
      ]
    },
    {
      "cell_type": "code",
      "execution_count": null,
      "metadata": {
        "id": "u0UHhaktJ9Da"
      },
      "outputs": [],
      "source": [
        "tf.train.latest_checkpoint(checkpoint_dir)"
      ]
    },
    {
      "cell_type": "code",
      "execution_count": null,
      "metadata": {
        "id": "GRp4fBGWKPew",
        "colab": {
          "base_uri": "https://localhost:8080/"
        },
        "outputId": "ccd305f6-3f32-487a-d3b4-3576a2211c14"
      },
      "outputs": [
        {
          "output_type": "stream",
          "name": "stdout",
          "text": [
            "Model: \"sequential_7\"\n",
            "_________________________________________________________________\n",
            " Layer (type)                Output Shape              Param #   \n",
            "=================================================================\n",
            " embedding_7 (Embedding)     (1, None, 256)            56832     \n",
            "                                                                 \n",
            " dropout_21 (Dropout)        (1, None, 256)            0         \n",
            "                                                                 \n",
            " lstm_14 (LSTM)              (1, None, 1024)           5246976   \n",
            "                                                                 \n",
            " dropout_22 (Dropout)        (1, None, 1024)           0         \n",
            "                                                                 \n",
            " lstm_15 (LSTM)              (1, None, 1024)           8392704   \n",
            "                                                                 \n",
            " dropout_23 (Dropout)        (1, None, 1024)           0         \n",
            "                                                                 \n",
            " dense_7 (Dense)             (1, None, 222)            227550    \n",
            "                                                                 \n",
            "=================================================================\n",
            "Total params: 13,924,062\n",
            "Trainable params: 13,924,062\n",
            "Non-trainable params: 0\n",
            "_________________________________________________________________\n"
          ]
        }
      ],
      "source": [
        "model = build_model(vocab_size, embedding_dim, rnn_units, batch_size=1)\n",
        "#model.load_weights('/content/drive/MyDrive/Texts/checkpoints_2022.05.13-17:46:53/ckpt_30.index')  #if the latest checkpoint is not your preferred\n",
        "model.load_weights(tf.train.latest_checkpoint('/content/drive/MyDrive/Texts/checkpoints_2022.05.13-17:46:53/'))  #if the latest checkpoint is what you want\n",
        "model.build(tf.TensorShape([1, None]))\n",
        "model.summary()"
      ]
    },
    {
      "cell_type": "code",
      "execution_count": null,
      "metadata": {
        "id": "E4wEjZn6KYSZ"
      },
      "outputs": [],
      "source": [
        "def generate_text(model, start_string):\n",
        "    \n",
        "    print('Generating with seed: \"' + start_string + '\"')\n",
        "  \n",
        "    num_generate = 1000\n",
        "\n",
        "    input_eval = [char2int[s] for s in start_string]\n",
        "    input_eval = tf.expand_dims(input_eval, 0)\n",
        "\n",
        "    text_generated = []\n",
        "\n",
        "    temperature = 1.0\n",
        "\n",
        "    model.reset_states()\n",
        "    for i in range(num_generate):\n",
        "        predictions = model(input_eval)\n",
        "        predictions = tf.squeeze(predictions, 0)\n",
        "        predictions = predictions / temperature\n",
        "        predicted_id = tf.random.categorical(predictions, num_samples=1)[-1,0].numpy()\n",
        "        input_eval = tf.expand_dims([predicted_id], 0)\n",
        "        text_generated.append(int2char[predicted_id])\n",
        "\n",
        "    return (start_string + ''.join(text_generated))"
      ]
    },
    {
      "cell_type": "code",
      "execution_count": null,
      "metadata": {
        "id": "XvBbck9MK0Cb",
        "colab": {
          "base_uri": "https://localhost:8080/"
        },
        "outputId": "5b7efd20-7f5c-43f2-a272-1538465554c3"
      },
      "outputs": [
        {
          "output_type": "stream",
          "name": "stdout",
          "text": [
            "Generating with seed: \"Cookie для отслеживания\"\n",
            "Cookie для отслеживания документируются случаи и время перехода по ссылкам на те или иные предложения. Если впоследствии вы всегда можете изменить настройки через свой браузер на предмет улучшения работы веб-сайта; маркетинговые функции, а также для предоставления услуги личности, когда пользователь посещает веб-сайт (и предоставляем следующие cookie-файлы для управления процессом входа в Личный кабинет под или в разделе «Функции этого веб-сайта» и блокировка установки файлов cookie для страниц\n",
            "Wordfence\tФункциональные/\n",
            "\n",
            "Используются для отслеживания того, как посетители перемещается по веб-сайту. Все данные о состояния посетителей и касательно отказа от такого согласия.\n",
            " Аналогичные технологии для хранения информации – технологии, позволяющие записывать определённую информацию в\n",
            "вашей личности из-за настоящего уведомления.\n",
            "\n",
            "Обратите внимание, что чтобы узнать больше о том, как используются различные сторонние файлы cookie (далее — «Google»). Google Analytics использует файлы «cookie», используемые н\n"
          ]
        }
      ],
      "source": [
        "print(generate_text(model, start_string=\"Cookie для отслеживания\"))"
      ]
    },
    {
      "cell_type": "code",
      "execution_count": null,
      "metadata": {
        "id": "ZiBHrzctK3Ap"
      },
      "outputs": [],
      "source": [
        "with open('sampleTF2.txt', 'w') as f:\n",
        "    sampleTF2 = generate_text(model, start_string=\"joy of gods\")\n",
        "    f.write(sampleTF2)"
      ]
    },
    {
      "cell_type": "markdown",
      "metadata": {
        "id": "FQiEPW1usqD4"
      },
      "source": [
        "Free memory resources if needed:"
      ]
    },
    {
      "cell_type": "code",
      "execution_count": null,
      "metadata": {
        "id": "IbhTRpUsL3Bg"
      },
      "outputs": [],
      "source": [
        "import signal\n",
        "\n",
        "os.kill(os.getpid(), signal.SIGKILL)"
      ]
    }
  ],
  "metadata": {
    "accelerator": "GPU",
    "colab": {
      "collapsed_sections": [],
      "name": "Копия блокнота \"Копия блокнота \"TextGen_tf2pub.ipynb\"\"",
      "provenance": []
    },
    "kernelspec": {
      "display_name": "Python 3",
      "language": "python",
      "name": "python3"
    },
    "language_info": {
      "codemirror_mode": {
        "name": "ipython",
        "version": 3
      },
      "file_extension": ".py",
      "mimetype": "text/x-python",
      "name": "python",
      "nbconvert_exporter": "python",
      "pygments_lexer": "ipython3",
      "version": "3.6.8"
    }
  },
  "nbformat": 4,
  "nbformat_minor": 0
}